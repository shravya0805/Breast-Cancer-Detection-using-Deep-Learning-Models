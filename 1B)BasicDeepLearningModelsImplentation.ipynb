{
  "cells": [
    {
      "cell_type": "markdown",
      "metadata": {
        "id": "zvCPN5tlR4dh"
      },
      "source": [
        "# **Packages** **Imported**"
      ]
    },
    {
      "cell_type": "code",
      "execution_count": null,
      "metadata": {
        "colab": {
          "base_uri": "https://localhost:8080/"
        },
        "id": "N-eECRIe_241",
        "outputId": "6d549d83-27a6-472e-8b7b-f9fcd70b9df2"
      },
      "outputs": [
        {
          "output_type": "stream",
          "name": "stdout",
          "text": [
            "Mounted at /content/gdrive\n"
          ]
        }
      ],
      "source": [
        "from google.colab import drive\n",
        "drive.mount('/content/gdrive')"
      ]
    },
    {
      "cell_type": "code",
      "execution_count": null,
      "metadata": {
        "id": "xHvLL2q-xCE8"
      },
      "outputs": [],
      "source": [
        "from google.colab.patches import cv2_imshow"
      ]
    },
    {
      "cell_type": "code",
      "execution_count": null,
      "metadata": {
        "id": "mUzB_dYwyrai"
      },
      "outputs": [],
      "source": [
        "import cv2\n",
        "import numpy as np\n",
        "from skimage.util import random_noise\n",
        "import os\n",
        "from keras.models import Model\n",
        "from keras.optimizers import Adam\n",
        "from keras.applications.vgg16 import VGG16, preprocess_input\n",
        "from keras.preprocessing.image import ImageDataGenerator\n",
        "from keras.callbacks import ModelCheckpoint, EarlyStopping\n",
        "from keras.layers import Dense, Dropout, Flatten\n",
        "from pathlib import Path\n",
        "import numpy as np"
      ]
    },
    {
      "cell_type": "code",
      "execution_count": null,
      "metadata": {
        "id": "EneH_mf6RmxO"
      },
      "outputs": [],
      "source": [
        "import keras\n",
        "import keras.backend as K\n",
        "from keras.models import Model\n",
        "from keras.layers import Input, Dense, Conv2D, Conv3D, DepthwiseConv2D, SeparableConv2D, Conv3DTranspose,MaxPooling2D\n",
        "from keras.layers import Flatten, MaxPool2D, AvgPool2D, GlobalAvgPool2D, UpSampling2D, BatchNormalization\n",
        "from keras.layers import Concatenate, Add, Dropout, ReLU, Lambda, Activation, LeakyReLU, PReLU\n",
        "\n",
        "from IPython.display import SVG\n",
        "from keras.utils.vis_utils import model_to_dot\n",
        "import os\n",
        "from time import time\n",
        "import numpy as np"
      ]
    },
    {
      "cell_type": "markdown",
      "metadata": {
        "id": "T9Wp_lUKRzSd"
      },
      "source": [
        "# **Adding** **Noise**"
      ]
    },
    {
      "cell_type": "code",
      "execution_count": null,
      "metadata": {
        "id": "R-usBOayxfe_"
      },
      "outputs": [],
      "source": [
        "def salt_pepper_noise(DIR,path):\n",
        "  count=0\n",
        "  for i in os.listdir(DIR):\n",
        "    image=cv2.imread(os.path.join(DIR, i))\n",
        "    noise_img = random_noise(image, mode='s&p',amount=0.3)\n",
        "    noise_img = np.array(255*noise_img, dtype = 'uint8')\n",
        "    cv2.imwrite(path+str(count)+'.png',noise_img) \n",
        "    count+=1\n",
        "\n"
      ]
    },
    {
      "cell_type": "code",
      "execution_count": null,
      "metadata": {
        "id": "lJEvS4nNyLt3"
      },
      "outputs": [],
      "source": [
        "salt_pepper_noise('/content/gdrive/MyDrive/Breast Cancer DataSet (1)/Train/Benign','/content/gdrive/MyDrive/Breast Cancer DataSet (2)/Train/Benign/salt_pepper_noise')"
      ]
    },
    {
      "cell_type": "code",
      "execution_count": null,
      "metadata": {
        "id": "JPjipuCd-bl9",
        "colab": {
          "base_uri": "https://localhost:8080/",
          "height": 305
        },
        "outputId": "4033c3a1-ae79-4eba-e84d-5742e94e48c4"
      },
      "outputs": [
        {
          "output_type": "error",
          "ename": "KeyboardInterrupt",
          "evalue": "ignored",
          "traceback": [
            "\u001b[0;31m---------------------------------------------------------------------------\u001b[0m",
            "\u001b[0;31mKeyboardInterrupt\u001b[0m                         Traceback (most recent call last)",
            "\u001b[0;32m<ipython-input-7-a90464196c30>\u001b[0m in \u001b[0;36m<module>\u001b[0;34m\u001b[0m\n\u001b[0;32m----> 1\u001b[0;31m \u001b[0msalt_pepper_noise\u001b[0m\u001b[0;34m(\u001b[0m\u001b[0;34m'/content/gdrive/MyDrive/Breast Cancer DataSet (1)/Train/Malignant'\u001b[0m\u001b[0;34m,\u001b[0m\u001b[0;34m'/content/gdrive/MyDrive/Breast Cancer DataSet (2)/Train/Malignant/salt_pepper_noise'\u001b[0m\u001b[0;34m)\u001b[0m\u001b[0;34m\u001b[0m\u001b[0;34m\u001b[0m\u001b[0m\n\u001b[0m",
            "\u001b[0;32m<ipython-input-5-187ac7ae8994>\u001b[0m in \u001b[0;36msalt_pepper_noise\u001b[0;34m(DIR, path)\u001b[0m\n\u001b[1;32m      5\u001b[0m     \u001b[0mnoise_img\u001b[0m \u001b[0;34m=\u001b[0m \u001b[0mrandom_noise\u001b[0m\u001b[0;34m(\u001b[0m\u001b[0mimage\u001b[0m\u001b[0;34m,\u001b[0m \u001b[0mmode\u001b[0m\u001b[0;34m=\u001b[0m\u001b[0;34m's&p'\u001b[0m\u001b[0;34m,\u001b[0m\u001b[0mamount\u001b[0m\u001b[0;34m=\u001b[0m\u001b[0;36m0.3\u001b[0m\u001b[0;34m)\u001b[0m\u001b[0;34m\u001b[0m\u001b[0;34m\u001b[0m\u001b[0m\n\u001b[1;32m      6\u001b[0m     \u001b[0mnoise_img\u001b[0m \u001b[0;34m=\u001b[0m \u001b[0mnp\u001b[0m\u001b[0;34m.\u001b[0m\u001b[0marray\u001b[0m\u001b[0;34m(\u001b[0m\u001b[0;36m255\u001b[0m\u001b[0;34m*\u001b[0m\u001b[0mnoise_img\u001b[0m\u001b[0;34m,\u001b[0m \u001b[0mdtype\u001b[0m \u001b[0;34m=\u001b[0m \u001b[0;34m'uint8'\u001b[0m\u001b[0;34m)\u001b[0m\u001b[0;34m\u001b[0m\u001b[0;34m\u001b[0m\u001b[0m\n\u001b[0;32m----> 7\u001b[0;31m     \u001b[0mcv2\u001b[0m\u001b[0;34m.\u001b[0m\u001b[0mimwrite\u001b[0m\u001b[0;34m(\u001b[0m\u001b[0mpath\u001b[0m\u001b[0;34m+\u001b[0m\u001b[0mstr\u001b[0m\u001b[0;34m(\u001b[0m\u001b[0mcount\u001b[0m\u001b[0;34m)\u001b[0m\u001b[0;34m+\u001b[0m\u001b[0;34m'.png'\u001b[0m\u001b[0;34m,\u001b[0m\u001b[0mnoise_img\u001b[0m\u001b[0;34m)\u001b[0m\u001b[0;34m\u001b[0m\u001b[0;34m\u001b[0m\u001b[0m\n\u001b[0m\u001b[1;32m      8\u001b[0m     \u001b[0mcount\u001b[0m\u001b[0;34m+=\u001b[0m\u001b[0;36m1\u001b[0m\u001b[0;34m\u001b[0m\u001b[0;34m\u001b[0m\u001b[0m\n\u001b[1;32m      9\u001b[0m \u001b[0;34m\u001b[0m\u001b[0m\n",
            "\u001b[0;31mKeyboardInterrupt\u001b[0m: "
          ]
        }
      ],
      "source": [
        "salt_pepper_noise('/content/gdrive/MyDrive/Breast Cancer DataSet (1)/Train/Malignant','/content/gdrive/MyDrive/Breast Cancer DataSet (2)/Train/Malignant/salt_pepper_noise')"
      ]
    },
    {
      "cell_type": "code",
      "execution_count": null,
      "metadata": {
        "id": "ok64q7FrAU7B"
      },
      "outputs": [],
      "source": [
        "def Gaussian_noise(DIR,path):\n",
        "  c1=0\n",
        "  for i in os.listdir(DIR):\n",
        "    image=cv2.imread(os.path.join(DIR, i))\n",
        "    gauss = np.random.normal(0,1,image.size)\n",
        "    gauss = gauss.reshape(image.shape[0],image.shape[1],image.shape[2]).astype('uint8')\n",
        "    img_gauss = cv2.add(image,gauss)\n",
        "    cv2.imwrite(path+str(c1)+'.png',img_gauss) \n",
        "    c1+=1"
      ]
    },
    {
      "cell_type": "code",
      "execution_count": null,
      "metadata": {
        "id": "p2DhsytFA270"
      },
      "outputs": [],
      "source": [
        "Gaussian_noise('/content/gdrive/MyDrive/Breast Cancer DataSet (1)/Train/Benign','/content/gdrive/MyDrive/Breast Cancer DataSet (2)/Train/Benign/Gaussian_noise')"
      ]
    },
    {
      "cell_type": "code",
      "execution_count": null,
      "metadata": {
        "id": "hyDoVbj3A2q6"
      },
      "outputs": [],
      "source": [
        "Gaussian_noise('/content/gdrive/MyDrive/Breast Cancer DataSet (1)/Train/Malignant','/content/gdrive/MyDrive/Breast Cancer DataSet (2)/Train/Malignant/Gaussian_noise')"
      ]
    },
    {
      "cell_type": "code",
      "execution_count": null,
      "metadata": {
        "id": "RolzDdoNElPI"
      },
      "outputs": [],
      "source": [
        "def speckle_noise(DIR,path):\n",
        "  c2=0\n",
        "  for i in os.listdir(DIR):\n",
        "    image=cv2.imread(os.path.join(DIR, i))\n",
        "    gauss = np.random.normal(0,1,image.size)\n",
        "    gauss = gauss.reshape(image.shape[0],image.shape[1],image.shape[2]).astype('uint8')\n",
        "    noise = image + image * gauss\n",
        "    cv2.imwrite(path+str(c2)+'.png',noise) \n",
        "    c2+=1"
      ]
    },
    {
      "cell_type": "code",
      "execution_count": null,
      "metadata": {
        "id": "Q8q7s9i6E2go"
      },
      "outputs": [],
      "source": [
        "speckle_noise('/content/gdrive/MyDrive/Breast Cancer DataSet (1)/Train/Benign','/content/gdrive/MyDrive/Breast Cancer DataSet (2)/Train/Benign/speckle_noise')"
      ]
    },
    {
      "cell_type": "code",
      "execution_count": null,
      "metadata": {
        "id": "bHyBxB3LE1pG"
      },
      "outputs": [],
      "source": [
        "speckle_noise('/content/gdrive/MyDrive/Breast Cancer DataSet (1)/Train/Malignant','/content/gdrive/MyDrive/Breast Cancer DataSet (2)/Train/Malignant/speckle_noise')"
      ]
    },
    {
      "cell_type": "markdown",
      "metadata": {
        "id": "MtalcZwjSCpx"
      },
      "source": [
        "# **Loading** **DataSet**"
      ]
    },
    {
      "cell_type": "code",
      "execution_count": null,
      "metadata": {
        "id": "0mNI9Bxd_oRC"
      },
      "outputs": [],
      "source": [
        "import os\n",
        "import pandas as pd\n",
        "import numpy as np\n",
        "import matplotlib.pyplot as plt\n",
        "import seaborn as sns\n",
        "\n",
        "\n",
        "dataset_path = '/content/gdrive/MyDrive/Breast Cancer DataSet (2)/Train'\n",
        "\n",
        "images = []\n",
        "labels = []\n",
        "\n",
        "for subfolder in os.listdir(dataset_path):\n",
        "  subfolder_path = os.path.join(dataset_path, subfolder)\n",
        "  if not os.path.isdir(subfolder_path):\n",
        "    continue\n",
        "  \n",
        "\n",
        "  for image_filename in os.listdir(subfolder_path):\n",
        "    image_path = os.path.join(subfolder_path, image_filename)\n",
        "    images.append(image_path)\n",
        "    labels.append(subfolder)\n",
        "\n",
        "\n",
        "df = pd.DataFrame({'image': images, 'label': labels})"
      ]
    },
    {
      "cell_type": "code",
      "execution_count": null,
      "metadata": {
        "id": "WiJD9dM6AMbc"
      },
      "outputs": [],
      "source": [
        "\n",
        "dataset_path = '/content/gdrive/MyDrive/Breast Cancer DataSet (2)/Test'\n",
        "\n",
        "images = []\n",
        "labels = []\n",
        "\n",
        "\n",
        "for subfolder in os.listdir(dataset_path):\n",
        "  subfolder_path = os.path.join(dataset_path, subfolder)\n",
        "  if not os.path.isdir(subfolder_path):\n",
        "    continue\n",
        "  \n",
        "  \n",
        "  for image_filename in os.listdir(subfolder_path):\n",
        "    image_path = os.path.join(subfolder_path, image_filename)\n",
        "    images.append(image_path)\n",
        "    labels.append(subfolder)\n",
        "\n",
        "\n",
        "df1 = pd.DataFrame({'image': images, 'label': labels})"
      ]
    },
    {
      "cell_type": "code",
      "execution_count": null,
      "metadata": {
        "colab": {
          "base_uri": "https://localhost:8080/",
          "height": 206
        },
        "id": "LmFx40ovAWE1",
        "outputId": "d17f94f2-8f40-487c-c8dd-78d7c207684f"
      },
      "outputs": [
        {
          "output_type": "execute_result",
          "data": {
            "text/plain": [
              "                                                 image      label\n",
              "124  /content/gdrive/MyDrive/Breast Cancer DataSet ...  Malignant\n",
              "125  /content/gdrive/MyDrive/Breast Cancer DataSet ...  Malignant\n",
              "126  /content/gdrive/MyDrive/Breast Cancer DataSet ...  Malignant\n",
              "127  /content/gdrive/MyDrive/Breast Cancer DataSet ...  Malignant\n",
              "128  /content/gdrive/MyDrive/Breast Cancer DataSet ...  Malignant"
            ],
            "text/html": [
              "\n",
              "  <div id=\"df-a2425da5-daa2-4712-88a1-cd890de2ded3\">\n",
              "    <div class=\"colab-df-container\">\n",
              "      <div>\n",
              "<style scoped>\n",
              "    .dataframe tbody tr th:only-of-type {\n",
              "        vertical-align: middle;\n",
              "    }\n",
              "\n",
              "    .dataframe tbody tr th {\n",
              "        vertical-align: top;\n",
              "    }\n",
              "\n",
              "    .dataframe thead th {\n",
              "        text-align: right;\n",
              "    }\n",
              "</style>\n",
              "<table border=\"1\" class=\"dataframe\">\n",
              "  <thead>\n",
              "    <tr style=\"text-align: right;\">\n",
              "      <th></th>\n",
              "      <th>image</th>\n",
              "      <th>label</th>\n",
              "    </tr>\n",
              "  </thead>\n",
              "  <tbody>\n",
              "    <tr>\n",
              "      <th>124</th>\n",
              "      <td>/content/gdrive/MyDrive/Breast Cancer DataSet ...</td>\n",
              "      <td>Malignant</td>\n",
              "    </tr>\n",
              "    <tr>\n",
              "      <th>125</th>\n",
              "      <td>/content/gdrive/MyDrive/Breast Cancer DataSet ...</td>\n",
              "      <td>Malignant</td>\n",
              "    </tr>\n",
              "    <tr>\n",
              "      <th>126</th>\n",
              "      <td>/content/gdrive/MyDrive/Breast Cancer DataSet ...</td>\n",
              "      <td>Malignant</td>\n",
              "    </tr>\n",
              "    <tr>\n",
              "      <th>127</th>\n",
              "      <td>/content/gdrive/MyDrive/Breast Cancer DataSet ...</td>\n",
              "      <td>Malignant</td>\n",
              "    </tr>\n",
              "    <tr>\n",
              "      <th>128</th>\n",
              "      <td>/content/gdrive/MyDrive/Breast Cancer DataSet ...</td>\n",
              "      <td>Malignant</td>\n",
              "    </tr>\n",
              "  </tbody>\n",
              "</table>\n",
              "</div>\n",
              "      <button class=\"colab-df-convert\" onclick=\"convertToInteractive('df-a2425da5-daa2-4712-88a1-cd890de2ded3')\"\n",
              "              title=\"Convert this dataframe to an interactive table.\"\n",
              "              style=\"display:none;\">\n",
              "        \n",
              "  <svg xmlns=\"http://www.w3.org/2000/svg\" height=\"24px\"viewBox=\"0 0 24 24\"\n",
              "       width=\"24px\">\n",
              "    <path d=\"M0 0h24v24H0V0z\" fill=\"none\"/>\n",
              "    <path d=\"M18.56 5.44l.94 2.06.94-2.06 2.06-.94-2.06-.94-.94-2.06-.94 2.06-2.06.94zm-11 1L8.5 8.5l.94-2.06 2.06-.94-2.06-.94L8.5 2.5l-.94 2.06-2.06.94zm10 10l.94 2.06.94-2.06 2.06-.94-2.06-.94-.94-2.06-.94 2.06-2.06.94z\"/><path d=\"M17.41 7.96l-1.37-1.37c-.4-.4-.92-.59-1.43-.59-.52 0-1.04.2-1.43.59L10.3 9.45l-7.72 7.72c-.78.78-.78 2.05 0 2.83L4 21.41c.39.39.9.59 1.41.59.51 0 1.02-.2 1.41-.59l7.78-7.78 2.81-2.81c.8-.78.8-2.07 0-2.86zM5.41 20L4 18.59l7.72-7.72 1.47 1.35L5.41 20z\"/>\n",
              "  </svg>\n",
              "      </button>\n",
              "      \n",
              "  <style>\n",
              "    .colab-df-container {\n",
              "      display:flex;\n",
              "      flex-wrap:wrap;\n",
              "      gap: 12px;\n",
              "    }\n",
              "\n",
              "    .colab-df-convert {\n",
              "      background-color: #E8F0FE;\n",
              "      border: none;\n",
              "      border-radius: 50%;\n",
              "      cursor: pointer;\n",
              "      display: none;\n",
              "      fill: #1967D2;\n",
              "      height: 32px;\n",
              "      padding: 0 0 0 0;\n",
              "      width: 32px;\n",
              "    }\n",
              "\n",
              "    .colab-df-convert:hover {\n",
              "      background-color: #E2EBFA;\n",
              "      box-shadow: 0px 1px 2px rgba(60, 64, 67, 0.3), 0px 1px 3px 1px rgba(60, 64, 67, 0.15);\n",
              "      fill: #174EA6;\n",
              "    }\n",
              "\n",
              "    [theme=dark] .colab-df-convert {\n",
              "      background-color: #3B4455;\n",
              "      fill: #D2E3FC;\n",
              "    }\n",
              "\n",
              "    [theme=dark] .colab-df-convert:hover {\n",
              "      background-color: #434B5C;\n",
              "      box-shadow: 0px 1px 3px 1px rgba(0, 0, 0, 0.15);\n",
              "      filter: drop-shadow(0px 1px 2px rgba(0, 0, 0, 0.3));\n",
              "      fill: #FFFFFF;\n",
              "    }\n",
              "  </style>\n",
              "\n",
              "      <script>\n",
              "        const buttonEl =\n",
              "          document.querySelector('#df-a2425da5-daa2-4712-88a1-cd890de2ded3 button.colab-df-convert');\n",
              "        buttonEl.style.display =\n",
              "          google.colab.kernel.accessAllowed ? 'block' : 'none';\n",
              "\n",
              "        async function convertToInteractive(key) {\n",
              "          const element = document.querySelector('#df-a2425da5-daa2-4712-88a1-cd890de2ded3');\n",
              "          const dataTable =\n",
              "            await google.colab.kernel.invokeFunction('convertToInteractive',\n",
              "                                                     [key], {});\n",
              "          if (!dataTable) return;\n",
              "\n",
              "          const docLinkHtml = 'Like what you see? Visit the ' +\n",
              "            '<a target=\"_blank\" href=https://colab.research.google.com/notebooks/data_table.ipynb>data table notebook</a>'\n",
              "            + ' to learn more about interactive tables.';\n",
              "          element.innerHTML = '';\n",
              "          dataTable['output_type'] = 'display_data';\n",
              "          await google.colab.output.renderOutput(dataTable, element);\n",
              "          const docLink = document.createElement('div');\n",
              "          docLink.innerHTML = docLinkHtml;\n",
              "          element.appendChild(docLink);\n",
              "        }\n",
              "      </script>\n",
              "    </div>\n",
              "  </div>\n",
              "  "
            ]
          },
          "metadata": {},
          "execution_count": 10
        }
      ],
      "source": [
        "df1.tail()"
      ]
    },
    {
      "cell_type": "code",
      "execution_count": null,
      "metadata": {
        "colab": {
          "base_uri": "https://localhost:8080/",
          "height": 206
        },
        "id": "qPs-moWXAC9s",
        "outputId": "815a65e4-b8f0-4b6c-90c9-bcc990dd66d9"
      },
      "outputs": [
        {
          "output_type": "execute_result",
          "data": {
            "text/plain": [
              "                                                  image   label\n",
              "3983  /content/gdrive/MyDrive/Breast Cancer DataSet ...  Benign\n",
              "3984  /content/gdrive/MyDrive/Breast Cancer DataSet ...  Benign\n",
              "3985  /content/gdrive/MyDrive/Breast Cancer DataSet ...  Benign\n",
              "3986  /content/gdrive/MyDrive/Breast Cancer DataSet ...  Benign\n",
              "3987  /content/gdrive/MyDrive/Breast Cancer DataSet ...  Benign"
            ],
            "text/html": [
              "\n",
              "  <div id=\"df-1c772d6a-fde8-4b94-968a-d0665a2937ed\">\n",
              "    <div class=\"colab-df-container\">\n",
              "      <div>\n",
              "<style scoped>\n",
              "    .dataframe tbody tr th:only-of-type {\n",
              "        vertical-align: middle;\n",
              "    }\n",
              "\n",
              "    .dataframe tbody tr th {\n",
              "        vertical-align: top;\n",
              "    }\n",
              "\n",
              "    .dataframe thead th {\n",
              "        text-align: right;\n",
              "    }\n",
              "</style>\n",
              "<table border=\"1\" class=\"dataframe\">\n",
              "  <thead>\n",
              "    <tr style=\"text-align: right;\">\n",
              "      <th></th>\n",
              "      <th>image</th>\n",
              "      <th>label</th>\n",
              "    </tr>\n",
              "  </thead>\n",
              "  <tbody>\n",
              "    <tr>\n",
              "      <th>3983</th>\n",
              "      <td>/content/gdrive/MyDrive/Breast Cancer DataSet ...</td>\n",
              "      <td>Benign</td>\n",
              "    </tr>\n",
              "    <tr>\n",
              "      <th>3984</th>\n",
              "      <td>/content/gdrive/MyDrive/Breast Cancer DataSet ...</td>\n",
              "      <td>Benign</td>\n",
              "    </tr>\n",
              "    <tr>\n",
              "      <th>3985</th>\n",
              "      <td>/content/gdrive/MyDrive/Breast Cancer DataSet ...</td>\n",
              "      <td>Benign</td>\n",
              "    </tr>\n",
              "    <tr>\n",
              "      <th>3986</th>\n",
              "      <td>/content/gdrive/MyDrive/Breast Cancer DataSet ...</td>\n",
              "      <td>Benign</td>\n",
              "    </tr>\n",
              "    <tr>\n",
              "      <th>3987</th>\n",
              "      <td>/content/gdrive/MyDrive/Breast Cancer DataSet ...</td>\n",
              "      <td>Benign</td>\n",
              "    </tr>\n",
              "  </tbody>\n",
              "</table>\n",
              "</div>\n",
              "      <button class=\"colab-df-convert\" onclick=\"convertToInteractive('df-1c772d6a-fde8-4b94-968a-d0665a2937ed')\"\n",
              "              title=\"Convert this dataframe to an interactive table.\"\n",
              "              style=\"display:none;\">\n",
              "        \n",
              "  <svg xmlns=\"http://www.w3.org/2000/svg\" height=\"24px\"viewBox=\"0 0 24 24\"\n",
              "       width=\"24px\">\n",
              "    <path d=\"M0 0h24v24H0V0z\" fill=\"none\"/>\n",
              "    <path d=\"M18.56 5.44l.94 2.06.94-2.06 2.06-.94-2.06-.94-.94-2.06-.94 2.06-2.06.94zm-11 1L8.5 8.5l.94-2.06 2.06-.94-2.06-.94L8.5 2.5l-.94 2.06-2.06.94zm10 10l.94 2.06.94-2.06 2.06-.94-2.06-.94-.94-2.06-.94 2.06-2.06.94z\"/><path d=\"M17.41 7.96l-1.37-1.37c-.4-.4-.92-.59-1.43-.59-.52 0-1.04.2-1.43.59L10.3 9.45l-7.72 7.72c-.78.78-.78 2.05 0 2.83L4 21.41c.39.39.9.59 1.41.59.51 0 1.02-.2 1.41-.59l7.78-7.78 2.81-2.81c.8-.78.8-2.07 0-2.86zM5.41 20L4 18.59l7.72-7.72 1.47 1.35L5.41 20z\"/>\n",
              "  </svg>\n",
              "      </button>\n",
              "      \n",
              "  <style>\n",
              "    .colab-df-container {\n",
              "      display:flex;\n",
              "      flex-wrap:wrap;\n",
              "      gap: 12px;\n",
              "    }\n",
              "\n",
              "    .colab-df-convert {\n",
              "      background-color: #E8F0FE;\n",
              "      border: none;\n",
              "      border-radius: 50%;\n",
              "      cursor: pointer;\n",
              "      display: none;\n",
              "      fill: #1967D2;\n",
              "      height: 32px;\n",
              "      padding: 0 0 0 0;\n",
              "      width: 32px;\n",
              "    }\n",
              "\n",
              "    .colab-df-convert:hover {\n",
              "      background-color: #E2EBFA;\n",
              "      box-shadow: 0px 1px 2px rgba(60, 64, 67, 0.3), 0px 1px 3px 1px rgba(60, 64, 67, 0.15);\n",
              "      fill: #174EA6;\n",
              "    }\n",
              "\n",
              "    [theme=dark] .colab-df-convert {\n",
              "      background-color: #3B4455;\n",
              "      fill: #D2E3FC;\n",
              "    }\n",
              "\n",
              "    [theme=dark] .colab-df-convert:hover {\n",
              "      background-color: #434B5C;\n",
              "      box-shadow: 0px 1px 3px 1px rgba(0, 0, 0, 0.15);\n",
              "      filter: drop-shadow(0px 1px 2px rgba(0, 0, 0, 0.3));\n",
              "      fill: #FFFFFF;\n",
              "    }\n",
              "  </style>\n",
              "\n",
              "      <script>\n",
              "        const buttonEl =\n",
              "          document.querySelector('#df-1c772d6a-fde8-4b94-968a-d0665a2937ed button.colab-df-convert');\n",
              "        buttonEl.style.display =\n",
              "          google.colab.kernel.accessAllowed ? 'block' : 'none';\n",
              "\n",
              "        async function convertToInteractive(key) {\n",
              "          const element = document.querySelector('#df-1c772d6a-fde8-4b94-968a-d0665a2937ed');\n",
              "          const dataTable =\n",
              "            await google.colab.kernel.invokeFunction('convertToInteractive',\n",
              "                                                     [key], {});\n",
              "          if (!dataTable) return;\n",
              "\n",
              "          const docLinkHtml = 'Like what you see? Visit the ' +\n",
              "            '<a target=\"_blank\" href=https://colab.research.google.com/notebooks/data_table.ipynb>data table notebook</a>'\n",
              "            + ' to learn more about interactive tables.';\n",
              "          element.innerHTML = '';\n",
              "          dataTable['output_type'] = 'display_data';\n",
              "          await google.colab.output.renderOutput(dataTable, element);\n",
              "          const docLink = document.createElement('div');\n",
              "          docLink.innerHTML = docLinkHtml;\n",
              "          element.appendChild(docLink);\n",
              "        }\n",
              "      </script>\n",
              "    </div>\n",
              "  </div>\n",
              "  "
            ]
          },
          "metadata": {},
          "execution_count": 11
        }
      ],
      "source": [
        "df.tail()"
      ]
    },
    {
      "cell_type": "code",
      "execution_count": null,
      "metadata": {
        "id": "wRkLGQ-NDi-9"
      },
      "outputs": [],
      "source": [
        "from sklearn.model_selection import train_test_split\n",
        "from sklearn.preprocessing import LabelEncoder\n",
        "\n",
        "X_train=df['image']\n",
        "X_test=df1['image']\n",
        "y_train=df['label']\n",
        "y_test=df1['label']\n",
        "\n",
        "\n",
        "# Create a dataframe for the training data\n",
        "df_train = pd.DataFrame({'image': X_train, 'label': y_train})\n",
        "\n",
        "# Create a dataframe for the test data\n",
        "df_test = pd.DataFrame({'image': X_test, 'label': y_test})\n",
        "\n",
        "\n"
      ]
    },
    {
      "cell_type": "code",
      "execution_count": null,
      "metadata": {
        "id": "tKK5EHP8-MyW"
      },
      "outputs": [],
      "source": [
        "df_train = df_train.sample(frac = 1)"
      ]
    },
    {
      "cell_type": "code",
      "execution_count": null,
      "metadata": {
        "id": "i-tXFlcv-NL0"
      },
      "outputs": [],
      "source": [
        "df_test = df_test.sample(frac = 1)"
      ]
    },
    {
      "cell_type": "code",
      "execution_count": null,
      "metadata": {
        "id": "4UEP6nqG6ScS"
      },
      "outputs": [],
      "source": []
    },
    {
      "cell_type": "code",
      "execution_count": null,
      "metadata": {
        "colab": {
          "base_uri": "https://localhost:8080/",
          "height": 424
        },
        "id": "e6cvDYCVEdd0",
        "outputId": "375f0a5e-4472-469b-f3f3-7193f6e532be"
      },
      "outputs": [
        {
          "output_type": "execute_result",
          "data": {
            "text/plain": [
              "                                                  image      label\n",
              "0     /content/gdrive/MyDrive/Breast Cancer DataSet ...  Malignant\n",
              "1     /content/gdrive/MyDrive/Breast Cancer DataSet ...  Malignant\n",
              "2     /content/gdrive/MyDrive/Breast Cancer DataSet ...  Malignant\n",
              "3     /content/gdrive/MyDrive/Breast Cancer DataSet ...     Benign\n",
              "4     /content/gdrive/MyDrive/Breast Cancer DataSet ...     Benign\n",
              "...                                                 ...        ...\n",
              "3983  /content/gdrive/MyDrive/Breast Cancer DataSet ...     Benign\n",
              "3984  /content/gdrive/MyDrive/Breast Cancer DataSet ...     Benign\n",
              "3985  /content/gdrive/MyDrive/Breast Cancer DataSet ...     Benign\n",
              "3986  /content/gdrive/MyDrive/Breast Cancer DataSet ...     Benign\n",
              "3987  /content/gdrive/MyDrive/Breast Cancer DataSet ...  Malignant\n",
              "\n",
              "[3988 rows x 2 columns]"
            ],
            "text/html": [
              "\n",
              "  <div id=\"df-73da726e-3cad-4b65-894b-791201c96bd9\">\n",
              "    <div class=\"colab-df-container\">\n",
              "      <div>\n",
              "<style scoped>\n",
              "    .dataframe tbody tr th:only-of-type {\n",
              "        vertical-align: middle;\n",
              "    }\n",
              "\n",
              "    .dataframe tbody tr th {\n",
              "        vertical-align: top;\n",
              "    }\n",
              "\n",
              "    .dataframe thead th {\n",
              "        text-align: right;\n",
              "    }\n",
              "</style>\n",
              "<table border=\"1\" class=\"dataframe\">\n",
              "  <thead>\n",
              "    <tr style=\"text-align: right;\">\n",
              "      <th></th>\n",
              "      <th>image</th>\n",
              "      <th>label</th>\n",
              "    </tr>\n",
              "  </thead>\n",
              "  <tbody>\n",
              "    <tr>\n",
              "      <th>0</th>\n",
              "      <td>/content/gdrive/MyDrive/Breast Cancer DataSet ...</td>\n",
              "      <td>Malignant</td>\n",
              "    </tr>\n",
              "    <tr>\n",
              "      <th>1</th>\n",
              "      <td>/content/gdrive/MyDrive/Breast Cancer DataSet ...</td>\n",
              "      <td>Malignant</td>\n",
              "    </tr>\n",
              "    <tr>\n",
              "      <th>2</th>\n",
              "      <td>/content/gdrive/MyDrive/Breast Cancer DataSet ...</td>\n",
              "      <td>Malignant</td>\n",
              "    </tr>\n",
              "    <tr>\n",
              "      <th>3</th>\n",
              "      <td>/content/gdrive/MyDrive/Breast Cancer DataSet ...</td>\n",
              "      <td>Benign</td>\n",
              "    </tr>\n",
              "    <tr>\n",
              "      <th>4</th>\n",
              "      <td>/content/gdrive/MyDrive/Breast Cancer DataSet ...</td>\n",
              "      <td>Benign</td>\n",
              "    </tr>\n",
              "    <tr>\n",
              "      <th>...</th>\n",
              "      <td>...</td>\n",
              "      <td>...</td>\n",
              "    </tr>\n",
              "    <tr>\n",
              "      <th>3983</th>\n",
              "      <td>/content/gdrive/MyDrive/Breast Cancer DataSet ...</td>\n",
              "      <td>Benign</td>\n",
              "    </tr>\n",
              "    <tr>\n",
              "      <th>3984</th>\n",
              "      <td>/content/gdrive/MyDrive/Breast Cancer DataSet ...</td>\n",
              "      <td>Benign</td>\n",
              "    </tr>\n",
              "    <tr>\n",
              "      <th>3985</th>\n",
              "      <td>/content/gdrive/MyDrive/Breast Cancer DataSet ...</td>\n",
              "      <td>Benign</td>\n",
              "    </tr>\n",
              "    <tr>\n",
              "      <th>3986</th>\n",
              "      <td>/content/gdrive/MyDrive/Breast Cancer DataSet ...</td>\n",
              "      <td>Benign</td>\n",
              "    </tr>\n",
              "    <tr>\n",
              "      <th>3987</th>\n",
              "      <td>/content/gdrive/MyDrive/Breast Cancer DataSet ...</td>\n",
              "      <td>Malignant</td>\n",
              "    </tr>\n",
              "  </tbody>\n",
              "</table>\n",
              "<p>3988 rows × 2 columns</p>\n",
              "</div>\n",
              "      <button class=\"colab-df-convert\" onclick=\"convertToInteractive('df-73da726e-3cad-4b65-894b-791201c96bd9')\"\n",
              "              title=\"Convert this dataframe to an interactive table.\"\n",
              "              style=\"display:none;\">\n",
              "        \n",
              "  <svg xmlns=\"http://www.w3.org/2000/svg\" height=\"24px\"viewBox=\"0 0 24 24\"\n",
              "       width=\"24px\">\n",
              "    <path d=\"M0 0h24v24H0V0z\" fill=\"none\"/>\n",
              "    <path d=\"M18.56 5.44l.94 2.06.94-2.06 2.06-.94-2.06-.94-.94-2.06-.94 2.06-2.06.94zm-11 1L8.5 8.5l.94-2.06 2.06-.94-2.06-.94L8.5 2.5l-.94 2.06-2.06.94zm10 10l.94 2.06.94-2.06 2.06-.94-2.06-.94-.94-2.06-.94 2.06-2.06.94z\"/><path d=\"M17.41 7.96l-1.37-1.37c-.4-.4-.92-.59-1.43-.59-.52 0-1.04.2-1.43.59L10.3 9.45l-7.72 7.72c-.78.78-.78 2.05 0 2.83L4 21.41c.39.39.9.59 1.41.59.51 0 1.02-.2 1.41-.59l7.78-7.78 2.81-2.81c.8-.78.8-2.07 0-2.86zM5.41 20L4 18.59l7.72-7.72 1.47 1.35L5.41 20z\"/>\n",
              "  </svg>\n",
              "      </button>\n",
              "      \n",
              "  <style>\n",
              "    .colab-df-container {\n",
              "      display:flex;\n",
              "      flex-wrap:wrap;\n",
              "      gap: 12px;\n",
              "    }\n",
              "\n",
              "    .colab-df-convert {\n",
              "      background-color: #E8F0FE;\n",
              "      border: none;\n",
              "      border-radius: 50%;\n",
              "      cursor: pointer;\n",
              "      display: none;\n",
              "      fill: #1967D2;\n",
              "      height: 32px;\n",
              "      padding: 0 0 0 0;\n",
              "      width: 32px;\n",
              "    }\n",
              "\n",
              "    .colab-df-convert:hover {\n",
              "      background-color: #E2EBFA;\n",
              "      box-shadow: 0px 1px 2px rgba(60, 64, 67, 0.3), 0px 1px 3px 1px rgba(60, 64, 67, 0.15);\n",
              "      fill: #174EA6;\n",
              "    }\n",
              "\n",
              "    [theme=dark] .colab-df-convert {\n",
              "      background-color: #3B4455;\n",
              "      fill: #D2E3FC;\n",
              "    }\n",
              "\n",
              "    [theme=dark] .colab-df-convert:hover {\n",
              "      background-color: #434B5C;\n",
              "      box-shadow: 0px 1px 3px 1px rgba(0, 0, 0, 0.15);\n",
              "      filter: drop-shadow(0px 1px 2px rgba(0, 0, 0, 0.3));\n",
              "      fill: #FFFFFF;\n",
              "    }\n",
              "  </style>\n",
              "\n",
              "      <script>\n",
              "        const buttonEl =\n",
              "          document.querySelector('#df-73da726e-3cad-4b65-894b-791201c96bd9 button.colab-df-convert');\n",
              "        buttonEl.style.display =\n",
              "          google.colab.kernel.accessAllowed ? 'block' : 'none';\n",
              "\n",
              "        async function convertToInteractive(key) {\n",
              "          const element = document.querySelector('#df-73da726e-3cad-4b65-894b-791201c96bd9');\n",
              "          const dataTable =\n",
              "            await google.colab.kernel.invokeFunction('convertToInteractive',\n",
              "                                                     [key], {});\n",
              "          if (!dataTable) return;\n",
              "\n",
              "          const docLinkHtml = 'Like what you see? Visit the ' +\n",
              "            '<a target=\"_blank\" href=https://colab.research.google.com/notebooks/data_table.ipynb>data table notebook</a>'\n",
              "            + ' to learn more about interactive tables.';\n",
              "          element.innerHTML = '';\n",
              "          dataTable['output_type'] = 'display_data';\n",
              "          await google.colab.output.renderOutput(dataTable, element);\n",
              "          const docLink = document.createElement('div');\n",
              "          docLink.innerHTML = docLinkHtml;\n",
              "          element.appendChild(docLink);\n",
              "        }\n",
              "      </script>\n",
              "    </div>\n",
              "  </div>\n",
              "  "
            ]
          },
          "metadata": {},
          "execution_count": 15
        }
      ],
      "source": [
        "df_train.reset_index(drop=True)"
      ]
    },
    {
      "cell_type": "code",
      "execution_count": null,
      "metadata": {
        "colab": {
          "base_uri": "https://localhost:8080/",
          "height": 424
        },
        "id": "T_-JICKvGItL",
        "outputId": "3713a57e-28f3-42ab-e136-3ef2c38cdef1"
      },
      "outputs": [
        {
          "output_type": "execute_result",
          "data": {
            "text/plain": [
              "                                                 image      label\n",
              "0    /content/gdrive/MyDrive/Breast Cancer DataSet ...     Benign\n",
              "1    /content/gdrive/MyDrive/Breast Cancer DataSet ...     Benign\n",
              "2    /content/gdrive/MyDrive/Breast Cancer DataSet ...     Benign\n",
              "3    /content/gdrive/MyDrive/Breast Cancer DataSet ...     Benign\n",
              "4    /content/gdrive/MyDrive/Breast Cancer DataSet ...  Malignant\n",
              "..                                                 ...        ...\n",
              "124  /content/gdrive/MyDrive/Breast Cancer DataSet ...  Malignant\n",
              "125  /content/gdrive/MyDrive/Breast Cancer DataSet ...     Benign\n",
              "126  /content/gdrive/MyDrive/Breast Cancer DataSet ...  Malignant\n",
              "127  /content/gdrive/MyDrive/Breast Cancer DataSet ...  Malignant\n",
              "128  /content/gdrive/MyDrive/Breast Cancer DataSet ...     Benign\n",
              "\n",
              "[129 rows x 2 columns]"
            ],
            "text/html": [
              "\n",
              "  <div id=\"df-32a1ffb0-3c95-464c-84f0-abf8658d7fa5\">\n",
              "    <div class=\"colab-df-container\">\n",
              "      <div>\n",
              "<style scoped>\n",
              "    .dataframe tbody tr th:only-of-type {\n",
              "        vertical-align: middle;\n",
              "    }\n",
              "\n",
              "    .dataframe tbody tr th {\n",
              "        vertical-align: top;\n",
              "    }\n",
              "\n",
              "    .dataframe thead th {\n",
              "        text-align: right;\n",
              "    }\n",
              "</style>\n",
              "<table border=\"1\" class=\"dataframe\">\n",
              "  <thead>\n",
              "    <tr style=\"text-align: right;\">\n",
              "      <th></th>\n",
              "      <th>image</th>\n",
              "      <th>label</th>\n",
              "    </tr>\n",
              "  </thead>\n",
              "  <tbody>\n",
              "    <tr>\n",
              "      <th>0</th>\n",
              "      <td>/content/gdrive/MyDrive/Breast Cancer DataSet ...</td>\n",
              "      <td>Benign</td>\n",
              "    </tr>\n",
              "    <tr>\n",
              "      <th>1</th>\n",
              "      <td>/content/gdrive/MyDrive/Breast Cancer DataSet ...</td>\n",
              "      <td>Benign</td>\n",
              "    </tr>\n",
              "    <tr>\n",
              "      <th>2</th>\n",
              "      <td>/content/gdrive/MyDrive/Breast Cancer DataSet ...</td>\n",
              "      <td>Benign</td>\n",
              "    </tr>\n",
              "    <tr>\n",
              "      <th>3</th>\n",
              "      <td>/content/gdrive/MyDrive/Breast Cancer DataSet ...</td>\n",
              "      <td>Benign</td>\n",
              "    </tr>\n",
              "    <tr>\n",
              "      <th>4</th>\n",
              "      <td>/content/gdrive/MyDrive/Breast Cancer DataSet ...</td>\n",
              "      <td>Malignant</td>\n",
              "    </tr>\n",
              "    <tr>\n",
              "      <th>...</th>\n",
              "      <td>...</td>\n",
              "      <td>...</td>\n",
              "    </tr>\n",
              "    <tr>\n",
              "      <th>124</th>\n",
              "      <td>/content/gdrive/MyDrive/Breast Cancer DataSet ...</td>\n",
              "      <td>Malignant</td>\n",
              "    </tr>\n",
              "    <tr>\n",
              "      <th>125</th>\n",
              "      <td>/content/gdrive/MyDrive/Breast Cancer DataSet ...</td>\n",
              "      <td>Benign</td>\n",
              "    </tr>\n",
              "    <tr>\n",
              "      <th>126</th>\n",
              "      <td>/content/gdrive/MyDrive/Breast Cancer DataSet ...</td>\n",
              "      <td>Malignant</td>\n",
              "    </tr>\n",
              "    <tr>\n",
              "      <th>127</th>\n",
              "      <td>/content/gdrive/MyDrive/Breast Cancer DataSet ...</td>\n",
              "      <td>Malignant</td>\n",
              "    </tr>\n",
              "    <tr>\n",
              "      <th>128</th>\n",
              "      <td>/content/gdrive/MyDrive/Breast Cancer DataSet ...</td>\n",
              "      <td>Benign</td>\n",
              "    </tr>\n",
              "  </tbody>\n",
              "</table>\n",
              "<p>129 rows × 2 columns</p>\n",
              "</div>\n",
              "      <button class=\"colab-df-convert\" onclick=\"convertToInteractive('df-32a1ffb0-3c95-464c-84f0-abf8658d7fa5')\"\n",
              "              title=\"Convert this dataframe to an interactive table.\"\n",
              "              style=\"display:none;\">\n",
              "        \n",
              "  <svg xmlns=\"http://www.w3.org/2000/svg\" height=\"24px\"viewBox=\"0 0 24 24\"\n",
              "       width=\"24px\">\n",
              "    <path d=\"M0 0h24v24H0V0z\" fill=\"none\"/>\n",
              "    <path d=\"M18.56 5.44l.94 2.06.94-2.06 2.06-.94-2.06-.94-.94-2.06-.94 2.06-2.06.94zm-11 1L8.5 8.5l.94-2.06 2.06-.94-2.06-.94L8.5 2.5l-.94 2.06-2.06.94zm10 10l.94 2.06.94-2.06 2.06-.94-2.06-.94-.94-2.06-.94 2.06-2.06.94z\"/><path d=\"M17.41 7.96l-1.37-1.37c-.4-.4-.92-.59-1.43-.59-.52 0-1.04.2-1.43.59L10.3 9.45l-7.72 7.72c-.78.78-.78 2.05 0 2.83L4 21.41c.39.39.9.59 1.41.59.51 0 1.02-.2 1.41-.59l7.78-7.78 2.81-2.81c.8-.78.8-2.07 0-2.86zM5.41 20L4 18.59l7.72-7.72 1.47 1.35L5.41 20z\"/>\n",
              "  </svg>\n",
              "      </button>\n",
              "      \n",
              "  <style>\n",
              "    .colab-df-container {\n",
              "      display:flex;\n",
              "      flex-wrap:wrap;\n",
              "      gap: 12px;\n",
              "    }\n",
              "\n",
              "    .colab-df-convert {\n",
              "      background-color: #E8F0FE;\n",
              "      border: none;\n",
              "      border-radius: 50%;\n",
              "      cursor: pointer;\n",
              "      display: none;\n",
              "      fill: #1967D2;\n",
              "      height: 32px;\n",
              "      padding: 0 0 0 0;\n",
              "      width: 32px;\n",
              "    }\n",
              "\n",
              "    .colab-df-convert:hover {\n",
              "      background-color: #E2EBFA;\n",
              "      box-shadow: 0px 1px 2px rgba(60, 64, 67, 0.3), 0px 1px 3px 1px rgba(60, 64, 67, 0.15);\n",
              "      fill: #174EA6;\n",
              "    }\n",
              "\n",
              "    [theme=dark] .colab-df-convert {\n",
              "      background-color: #3B4455;\n",
              "      fill: #D2E3FC;\n",
              "    }\n",
              "\n",
              "    [theme=dark] .colab-df-convert:hover {\n",
              "      background-color: #434B5C;\n",
              "      box-shadow: 0px 1px 3px 1px rgba(0, 0, 0, 0.15);\n",
              "      filter: drop-shadow(0px 1px 2px rgba(0, 0, 0, 0.3));\n",
              "      fill: #FFFFFF;\n",
              "    }\n",
              "  </style>\n",
              "\n",
              "      <script>\n",
              "        const buttonEl =\n",
              "          document.querySelector('#df-32a1ffb0-3c95-464c-84f0-abf8658d7fa5 button.colab-df-convert');\n",
              "        buttonEl.style.display =\n",
              "          google.colab.kernel.accessAllowed ? 'block' : 'none';\n",
              "\n",
              "        async function convertToInteractive(key) {\n",
              "          const element = document.querySelector('#df-32a1ffb0-3c95-464c-84f0-abf8658d7fa5');\n",
              "          const dataTable =\n",
              "            await google.colab.kernel.invokeFunction('convertToInteractive',\n",
              "                                                     [key], {});\n",
              "          if (!dataTable) return;\n",
              "\n",
              "          const docLinkHtml = 'Like what you see? Visit the ' +\n",
              "            '<a target=\"_blank\" href=https://colab.research.google.com/notebooks/data_table.ipynb>data table notebook</a>'\n",
              "            + ' to learn more about interactive tables.';\n",
              "          element.innerHTML = '';\n",
              "          dataTable['output_type'] = 'display_data';\n",
              "          await google.colab.output.renderOutput(dataTable, element);\n",
              "          const docLink = document.createElement('div');\n",
              "          docLink.innerHTML = docLinkHtml;\n",
              "          element.appendChild(docLink);\n",
              "        }\n",
              "      </script>\n",
              "    </div>\n",
              "  </div>\n",
              "  "
            ]
          },
          "metadata": {},
          "execution_count": 16
        }
      ],
      "source": [
        "df_test.reset_index(drop=True)"
      ]
    },
    {
      "cell_type": "code",
      "execution_count": null,
      "metadata": {
        "colab": {
          "base_uri": "https://localhost:8080/"
        },
        "id": "WM-QVid9EV1p",
        "outputId": "fdd842bb-bfd8-4a65-a636-19f78102b2a1"
      },
      "outputs": [
        {
          "output_type": "stream",
          "name": "stdout",
          "text": [
            "3988\n"
          ]
        }
      ],
      "source": [
        "print(len(df_train))"
      ]
    },
    {
      "cell_type": "code",
      "execution_count": null,
      "metadata": {
        "colab": {
          "base_uri": "https://localhost:8080/"
        },
        "id": "18XuDo6kEVs1",
        "outputId": "4e8771c7-c391-49ca-867f-33131f946912"
      },
      "outputs": [
        {
          "output_type": "stream",
          "name": "stdout",
          "text": [
            "129\n"
          ]
        }
      ],
      "source": [
        "print(len(df_test))"
      ]
    },
    {
      "cell_type": "code",
      "source": [
        "pip install livelossplot"
      ],
      "metadata": {
        "colab": {
          "base_uri": "https://localhost:8080/"
        },
        "id": "aP0zez7VddeT",
        "outputId": "17e6c04b-4a74-4206-8b86-9fe97fa315da"
      },
      "execution_count": null,
      "outputs": [
        {
          "output_type": "stream",
          "name": "stdout",
          "text": [
            "Looking in indexes: https://pypi.org/simple, https://us-python.pkg.dev/colab-wheels/public/simple/\n",
            "Collecting livelossplot\n",
            "  Downloading livelossplot-0.5.5-py3-none-any.whl (22 kB)\n",
            "Requirement already satisfied: matplotlib in /usr/local/lib/python3.8/dist-packages (from livelossplot) (3.2.2)\n",
            "Requirement already satisfied: bokeh in /usr/local/lib/python3.8/dist-packages (from livelossplot) (2.3.3)\n",
            "Requirement already satisfied: python-dateutil>=2.1 in /usr/local/lib/python3.8/dist-packages (from bokeh->livelossplot) (2.8.2)\n",
            "Requirement already satisfied: Jinja2>=2.9 in /usr/local/lib/python3.8/dist-packages (from bokeh->livelossplot) (2.11.3)\n",
            "Requirement already satisfied: numpy>=1.11.3 in /usr/local/lib/python3.8/dist-packages (from bokeh->livelossplot) (1.21.6)\n",
            "Requirement already satisfied: packaging>=16.8 in /usr/local/lib/python3.8/dist-packages (from bokeh->livelossplot) (21.3)\n",
            "Requirement already satisfied: tornado>=5.1 in /usr/local/lib/python3.8/dist-packages (from bokeh->livelossplot) (6.0.4)\n",
            "Requirement already satisfied: PyYAML>=3.10 in /usr/local/lib/python3.8/dist-packages (from bokeh->livelossplot) (6.0)\n",
            "Requirement already satisfied: typing-extensions>=3.7.4 in /usr/local/lib/python3.8/dist-packages (from bokeh->livelossplot) (4.4.0)\n",
            "Requirement already satisfied: pillow>=7.1.0 in /usr/local/lib/python3.8/dist-packages (from bokeh->livelossplot) (7.1.2)\n",
            "Requirement already satisfied: MarkupSafe>=0.23 in /usr/local/lib/python3.8/dist-packages (from Jinja2>=2.9->bokeh->livelossplot) (2.0.1)\n",
            "Requirement already satisfied: pyparsing!=3.0.5,>=2.0.2 in /usr/local/lib/python3.8/dist-packages (from packaging>=16.8->bokeh->livelossplot) (3.0.9)\n",
            "Requirement already satisfied: six>=1.5 in /usr/local/lib/python3.8/dist-packages (from python-dateutil>=2.1->bokeh->livelossplot) (1.15.0)\n",
            "Requirement already satisfied: kiwisolver>=1.0.1 in /usr/local/lib/python3.8/dist-packages (from matplotlib->livelossplot) (1.4.4)\n",
            "Requirement already satisfied: cycler>=0.10 in /usr/local/lib/python3.8/dist-packages (from matplotlib->livelossplot) (0.11.0)\n",
            "Installing collected packages: livelossplot\n",
            "Successfully installed livelossplot-0.5.5\n"
          ]
        }
      ]
    },
    {
      "cell_type": "markdown",
      "metadata": {
        "id": "F8ysSL-ESKxb"
      },
      "source": [
        "# **Data** **Augmentation**"
      ]
    },
    {
      "cell_type": "code",
      "execution_count": null,
      "metadata": {
        "colab": {
          "base_uri": "https://localhost:8080/"
        },
        "id": "kWHC6Uc3DueU",
        "outputId": "2ae9db9f-d2f9-4e1a-a4ac-b8379d869b34"
      },
      "outputs": [
        {
          "output_type": "stream",
          "name": "stdout",
          "text": [
            "Found 3988 validated image filenames belonging to 2 classes.\n",
            "Found 129 validated image filenames belonging to 2 classes.\n"
          ]
        }
      ],
      "source": [
        "from keras.preprocessing.image import ImageDataGenerator\n",
        "\n",
        "image_size = (227, 227)\n",
        "batch_size = 32\n",
        "\n",
        "train_datagen = ImageDataGenerator(\n",
        "    rescale=1./255,\n",
        "    rotation_range=45,\n",
        "    width_shift_range=0.2,\n",
        "    height_shift_range=0.2,\n",
        "    shear_range=0.2,\n",
        "    zoom_range=0.2,\n",
        "    horizontal_flip=True,\n",
        "    vertical_flip=True,\n",
        "    fill_mode='nearest'\n",
        ")\n",
        "test_datagen = ImageDataGenerator( rescale = 1./255) \n",
        "\n",
        "\n",
        "train_generator = train_datagen.flow_from_dataframe(\n",
        "    df_train,\n",
        "    x_col='image',\n",
        "    y_col='label',\n",
        "    target_size=image_size,\n",
        "    batch_size=batch_size,\n",
        "    class_mode='categorical',\n",
        "    shuffle=True,\n",
        "    color_mode = 'rgb'\n",
        ")\n",
        "\n",
        "\n",
        "test_generator =test_datagen.flow_from_dataframe(\n",
        "    df_test,\n",
        "    x_col='image',\n",
        "    y_col='label',\n",
        "    target_size=image_size,\n",
        "    batch_size=batch_size,\n",
        "    class_mode='categorical',\n",
        "    shuffle=False,\n",
        "    color_mode = 'rgb'\n",
        ")"
      ]
    },
    {
      "cell_type": "markdown",
      "metadata": {
        "id": "gscJbdnBRkxl"
      },
      "source": [
        "# **Alex**  **Net**"
      ]
    },
    {
      "cell_type": "code",
      "execution_count": null,
      "metadata": {
        "id": "jOMdQFq9DNNi"
      },
      "outputs": [],
      "source": [
        "def AlexNet(input_shape):\n",
        "    \n",
        "    X_input = Input(input_shape)\n",
        "    \n",
        "    X = Conv2D(96,(11,11),strides = 4,name=\"conv0\")(X_input)\n",
        "    X = BatchNormalization(axis = 3 , name = \"bn0\")(X)\n",
        "    X = Activation('relu')(X)\n",
        "    \n",
        "    X = MaxPooling2D((3,3),strides = 2,name = 'max0')(X)\n",
        "    \n",
        "    X = Conv2D(256,(5,5),padding = 'same' , name = 'conv1')(X)\n",
        "    X = BatchNormalization(axis = 3 ,name='bn1')(X)\n",
        "    X = Activation('relu')(X)\n",
        "    \n",
        "    X = MaxPooling2D((3,3),strides = 2,name = 'max1')(X)\n",
        "    \n",
        "    X = Conv2D(384, (3,3) , padding = 'same' , name='conv2')(X)\n",
        "    X = BatchNormalization(axis = 3, name = 'bn2')(X)\n",
        "    X = Activation('relu')(X)\n",
        "    \n",
        "    X = Conv2D(384, (3,3) , padding = 'same' , name='conv3')(X)\n",
        "    X = BatchNormalization(axis = 3, name = 'bn3')(X)\n",
        "    X = Activation('relu')(X)\n",
        "    \n",
        "    X = Conv2D(256, (3,3) , padding = 'same' , name='conv4')(X)\n",
        "    X = BatchNormalization(axis = 3, name = 'bn4')(X)\n",
        "    X = Activation('relu')(X)\n",
        "    \n",
        "    X = MaxPooling2D((3,3),strides = 2,name = 'max2')(X)\n",
        "    \n",
        "    X = Flatten()(X)\n",
        "    \n",
        "    X = Dense(4096, activation = 'relu', name = \"fc0\")(X)\n",
        "    X=  Dropout(0.5 ,name=\"d0\")(X)\n",
        "    X = Dense(4096, activation = 'relu', name = 'fc1')(X) \n",
        "    X=  Dropout(0.5,name=\"d1\")(X)\n",
        "    X = Dense(2,activation='softmax',name = 'fc2')(X)\n",
        "    \n",
        "    model = Model(inputs = X_input, outputs = X, name='AlexNet')\n",
        "    return model"
      ]
    },
    {
      "cell_type": "code",
      "source": [
        "img_shape = [227,227,3]\n",
        "alex = AlexNet(img_shape)"
      ],
      "metadata": {
        "id": "tO-iyA40GGfB"
      },
      "execution_count": null,
      "outputs": []
    },
    {
      "cell_type": "code",
      "execution_count": null,
      "metadata": {
        "colab": {
          "base_uri": "https://localhost:8080/"
        },
        "id": "pZMxfOGjDRTH",
        "outputId": "1f565807-e035-4895-8b4f-d0ea283b907c"
      },
      "outputs": [
        {
          "output_type": "stream",
          "name": "stdout",
          "text": [
            "Model: \"AlexNet\"\n",
            "_________________________________________________________________\n",
            " Layer (type)                Output Shape              Param #   \n",
            "=================================================================\n",
            " input_9 (InputLayer)        [(None, 227, 227, 3)]     0         \n",
            "                                                                 \n",
            " conv0 (Conv2D)              (None, 55, 55, 96)        34944     \n",
            "                                                                 \n",
            " bn0 (BatchNormalization)    (None, 55, 55, 96)        384       \n",
            "                                                                 \n",
            " activation (Activation)     (None, 55, 55, 96)        0         \n",
            "                                                                 \n",
            " max0 (MaxPooling2D)         (None, 27, 27, 96)        0         \n",
            "                                                                 \n",
            " conv1 (Conv2D)              (None, 27, 27, 256)       614656    \n",
            "                                                                 \n",
            " bn1 (BatchNormalization)    (None, 27, 27, 256)       1024      \n",
            "                                                                 \n",
            " activation_1 (Activation)   (None, 27, 27, 256)       0         \n",
            "                                                                 \n",
            " max1 (MaxPooling2D)         (None, 13, 13, 256)       0         \n",
            "                                                                 \n",
            " conv2 (Conv2D)              (None, 13, 13, 384)       885120    \n",
            "                                                                 \n",
            " bn2 (BatchNormalization)    (None, 13, 13, 384)       1536      \n",
            "                                                                 \n",
            " activation_2 (Activation)   (None, 13, 13, 384)       0         \n",
            "                                                                 \n",
            " conv3 (Conv2D)              (None, 13, 13, 384)       1327488   \n",
            "                                                                 \n",
            " bn3 (BatchNormalization)    (None, 13, 13, 384)       1536      \n",
            "                                                                 \n",
            " activation_3 (Activation)   (None, 13, 13, 384)       0         \n",
            "                                                                 \n",
            " conv4 (Conv2D)              (None, 13, 13, 256)       884992    \n",
            "                                                                 \n",
            " bn4 (BatchNormalization)    (None, 13, 13, 256)       1024      \n",
            "                                                                 \n",
            " activation_4 (Activation)   (None, 13, 13, 256)       0         \n",
            "                                                                 \n",
            " max2 (MaxPooling2D)         (None, 6, 6, 256)         0         \n",
            "                                                                 \n",
            " flatten_1 (Flatten)         (None, 9216)              0         \n",
            "                                                                 \n",
            " fc0 (Dense)                 (None, 4096)              37752832  \n",
            "                                                                 \n",
            " d0 (Dropout)                (None, 4096)              0         \n",
            "                                                                 \n",
            " fc1 (Dense)                 (None, 4096)              16781312  \n",
            "                                                                 \n",
            " d1 (Dropout)                (None, 4096)              0         \n",
            "                                                                 \n",
            " fc2 (Dense)                 (None, 2)                 8194      \n",
            "                                                                 \n",
            "=================================================================\n",
            "Total params: 58,295,042\n",
            "Trainable params: 58,292,290\n",
            "Non-trainable params: 2,752\n",
            "_________________________________________________________________\n"
          ]
        }
      ],
      "source": [
        "alex.summary()"
      ]
    },
    {
      "cell_type": "code",
      "execution_count": null,
      "metadata": {
        "id": "_HF0JJtHDT8Q"
      },
      "outputs": [],
      "source": [
        "alex.compile(optimizer = 'adam' , loss = 'categorical_crossentropy' , metrics=['accuracy'])"
      ]
    },
    {
      "cell_type": "code",
      "source": [
        "from keras.callbacks import ModelCheckpoint, EarlyStopping\n",
        "from livelossplot.keras import PlotLossesCallback"
      ],
      "metadata": {
        "id": "MYxO_LhCdboV"
      },
      "execution_count": null,
      "outputs": []
    },
    {
      "cell_type": "code",
      "execution_count": null,
      "metadata": {
        "id": "Jfnm7f2Mp2Ft"
      },
      "outputs": [],
      "source": [
        "# ModelCheckpoint callback - save best weights\n",
        "from keras.callbacks import ModelCheckpoint, EarlyStopping\n",
        "from livelossplot.keras import PlotLossesCallback\n",
        "tl_checkpoint_1 = ModelCheckpoint(filepath='tl_model_v1.weights.best.hdf5',\n",
        "                                  save_best_only=True,\n",
        "                                  monitor='val_accuracy', mode='max',\n",
        "                                  verbose=1)\n",
        "\n",
        "# EarlyStopping\n",
        "early_stop = EarlyStopping(monitor='val_loss',\n",
        "                           patience=10,\n",
        "                           restore_best_weights=True,\n",
        "                           mode='min')"
      ]
    },
    {
      "cell_type": "code",
      "execution_count": null,
      "metadata": {
        "colab": {
          "base_uri": "https://localhost:8080/",
          "height": 707
        },
        "id": "TXc5IJh9DayX",
        "outputId": "5535a581-4e28-4f3a-ec7d-ce0b1bf87280"
      },
      "outputs": [
        {
          "output_type": "display_data",
          "data": {
            "text/plain": [
              "<Figure size 864x576 with 2 Axes>"
            ],
            "image/png": "[encoded data removed]"
          },
          "metadata": {
            "needs_background": "light"
          }
        },
        {
          "output_type": "stream",
          "name": "stdout",
          "text": [
            "accuracy\n",
            "\ttraining         \t (min:    0.664, max:    0.831, cur:    0.812)\n",
            "\tvalidation       \t (min:    0.442, max:    0.915, cur:    0.496)\n",
            "Loss\n",
            "\ttraining         \t (min:    0.382, max:    4.114, cur:    0.448)\n",
            "\tvalidation       \t (min:    0.419, max:   43.265, cur:   43.265)\n",
            "\b\b\b\b\b\b\b\b\b\b\b\b\b\b\b\b\b\b\b\b\b\b\b\b\b\b\b\b\b\b\b\b\b\b\b\b\b\b\b\b\b\b\b\b\b\b\b\b\b\b\b\b\b\b\b\b\b\b\b\b\b\b\b\b\b\b\b\b\b\b\b\b\b\b\b\b\b\b\b\b\b\b\b\b\r125/125 [==============================] - 98s 783ms/step - loss: 0.4482 - accuracy: 0.8119 - val_loss: 43.2654 - val_accuracy: 0.4961\n"
          ]
        }
      ],
      "source": [
        "model_history = alex.fit(train_generator,\n",
        "                            batch_size=32,\n",
        "                            epochs=10,\n",
        "                            validation_data=test_generator,\n",
        "                            callbacks=[tl_checkpoint_1, early_stop,PlotLossesCallback()],\n",
        "                            verbose=1)"
      ]
    },
    {
      "cell_type": "code",
      "execution_count": null,
      "metadata": {
        "id": "LzaoHtBXx0jP"
      },
      "outputs": [],
      "source": [
        "alex.load_weights('tl_model_v1.weights.best.hdf5')"
      ]
    },
    {
      "cell_type": "code",
      "execution_count": null,
      "metadata": {
        "colab": {
          "base_uri": "https://localhost:8080/"
        },
        "id": "P1Iny8aKDgyp",
        "outputId": "e1609888-317d-4198-b82e-6f6dc48f73bc"
      },
      "outputs": [
        {
          "output_type": "stream",
          "name": "stdout",
          "text": [
            "5/5 [==============================] - 4s 833ms/step - loss: 0.5501 - accuracy: 0.9147\n"
          ]
        }
      ],
      "source": [
        "metrics = alex.evaluate(test_generator)"
      ]
    },
    {
      "cell_type": "code",
      "execution_count": null,
      "metadata": {
        "colab": {
          "base_uri": "https://localhost:8080/",
          "height": 279
        },
        "id": "7aYHhTj9Djr0",
        "outputId": "619d1ea0-b90f-4d0a-db3c-482269efcfb1"
      },
      "outputs": [
        {
          "output_type": "display_data",
          "data": {
            "text/plain": [
              "<Figure size 432x288 with 1 Axes>"
            ],
            "image/png": "[encoded data removed]"
          },
          "metadata": {
            "needs_background": "light"
          }
        }
      ],
      "source": [
        "history = model_history.history\n",
        "\n",
        "# Plot the accuracy and loss of the model over time\n",
        "plt.plot(history['accuracy'])\n",
        "plt.plot(history['loss'])\n",
        "plt.legend(['Accuracy', 'Loss'])\n",
        "plt.xlabel('Epoch')\n",
        "plt.ylabel('Metric')\n",
        "#plt.ylim([0.5, 1])\n",
        "plt.show()"
      ]
    },
    {
      "cell_type": "code",
      "execution_count": null,
      "metadata": {
        "id": "AyDaeV_cwLve"
      },
      "outputs": [],
      "source": []
    },
    {
      "cell_type": "code",
      "execution_count": null,
      "metadata": {
        "id": "yH7tfrhFwLpc"
      },
      "outputs": [],
      "source": []
    },
    {
      "cell_type": "code",
      "execution_count": null,
      "metadata": {
        "colab": {
          "base_uri": "https://localhost:8080/"
        },
        "id": "95IuS9aRulqI",
        "outputId": "1094e6f5-2e96-4abc-b40f-cb95a712fea1"
      },
      "outputs": [
        {
          "output_type": "stream",
          "name": "stdout",
          "text": [
            "5/5 [==============================] - 2s 383ms/step\n"
          ]
        }
      ],
      "source": [
        "true_classes = test_generator.classes\n",
        "class_indices = train_generator.class_indices\n",
        "class_indices = dict((v,k) for k,v in class_indices.items())\n",
        "\n",
        "model_preds = alex.predict(test_generator)\n",
        "model_pred_classes = np.argmax(model_preds, axis=1)"
      ]
    },
    {
      "cell_type": "code",
      "execution_count": null,
      "metadata": {
        "colab": {
          "base_uri": "https://localhost:8080/"
        },
        "id": "XozV1BJbulad",
        "outputId": "fea490df-406b-4910-885c-f66373ec42ac"
      },
      "outputs": [
        {
          "output_type": "stream",
          "name": "stdout",
          "text": [
            "Alex Model Accuracy : 91.47%\n"
          ]
        }
      ],
      "source": [
        "from sklearn.metrics import accuracy_score\n",
        "\n",
        "model_acc = accuracy_score(true_classes,model_pred_classes)\n",
        "print(\"Alex Model Accuracy : {:.2f}%\".format(model_acc * 100))"
      ]
    },
    {
      "cell_type": "code",
      "execution_count": null,
      "metadata": {
        "id": "4R6pZ9taulPu"
      },
      "outputs": [],
      "source": [
        "from sklearn.metrics import confusion_matrix\n",
        "cm=confusion_matrix(true_classes,model_pred_classes)"
      ]
    },
    {
      "cell_type": "code",
      "execution_count": null,
      "metadata": {
        "colab": {
          "base_uri": "https://localhost:8080/",
          "height": 296
        },
        "id": "FYDB7d2yulLR",
        "outputId": "823af28c-32e9-4222-8636-e10bce0b93e0"
      },
      "outputs": [
        {
          "output_type": "execute_result",
          "data": {
            "text/plain": [
              "Text(33.0, 0.5, 'Actual Value')"
            ]
          },
          "metadata": {},
          "execution_count": 164
        },
        {
          "output_type": "display_data",
          "data": {
            "text/plain": [
              "<Figure size 432x288 with 1 Axes>"
            ],
            "image/png": "[encoded data removed]"
          },
          "metadata": {
            "needs_background": "light"
          }
        }
      ],
      "source": [
        "from sklearn import metrics as mt\n",
        "sns.heatmap(cm, annot = True, cmap=\"Blues\",cbar=False);\n",
        "plt.xlabel('Predicted Value')\n",
        "plt.ylabel('Actual Value')"
      ]
    },
    {
      "cell_type": "code",
      "execution_count": null,
      "metadata": {
        "colab": {
          "base_uri": "https://localhost:8080/"
        },
        "id": "wzdRR8phulGj",
        "outputId": "961e9bac-f701-4ab0-a678-5a8acffe038e"
      },
      "outputs": [
        {
          "output_type": "stream",
          "name": "stdout",
          "text": [
            "              precision    recall  f1-score   support\n",
            "\n",
            "           0       0.85      1.00      0.92        64\n",
            "           1       1.00      0.83      0.91        65\n",
            "\n",
            "    accuracy                           0.91       129\n",
            "   macro avg       0.93      0.92      0.91       129\n",
            "weighted avg       0.93      0.91      0.91       129\n",
            "\n"
          ]
        }
      ],
      "source": [
        "print(mt.classification_report(true_classes, model_pred_classes))"
      ]
    },
    {
      "cell_type": "markdown",
      "metadata": {
        "id": "2-fgGUe_ev3G"
      },
      "source": [
        "# **VGG16**"
      ]
    },
    {
      "cell_type": "code",
      "execution_count": null,
      "metadata": {
        "colab": {
          "base_uri": "https://localhost:8080/"
        },
        "id": "PjlQs2WWnSyM",
        "outputId": "d7a9ef14-c429-4122-e7ea-03d9723b10de"
      },
      "outputs": [
        {
          "output_type": "stream",
          "name": "stdout",
          "text": [
            "Found 3988 validated image filenames belonging to 2 classes.\n",
            "Found 129 validated image filenames belonging to 2 classes.\n"
          ]
        }
      ],
      "source": [
        "image_size = (224, 224)\n",
        "batch_size = 32\n",
        "\n",
        "# Create an ImageDataGenerator object with data augmentation options for image preprocessing\n",
        "datagen = ImageDataGenerator(\n",
        "    rescale=1./255,\n",
        "    rotation_range=45,\n",
        "    width_shift_range=0.2,\n",
        "    height_shift_range=0.2,\n",
        "    shear_range=0.2,\n",
        "    zoom_range=0.2,\n",
        "    horizontal_flip=True,\n",
        "    vertical_flip=True,\n",
        "    fill_mode='nearest'\n",
        ")\n",
        "\n",
        "train_generator = datagen.flow_from_dataframe(\n",
        "    df_train,\n",
        "    x_col='image',\n",
        "    y_col='label',\n",
        "    target_size=image_size,\n",
        "    batch_size=batch_size,\n",
        "    class_mode='categorical',\n",
        "    shuffle=True,\n",
        "    color_mode = 'rgb'\n",
        ")\n",
        "\n",
        "# Create a generator for the test data\n",
        "test_generator = datagen.flow_from_dataframe(\n",
        "    df_test,\n",
        "    x_col='image',\n",
        "    y_col='label',\n",
        "    target_size=image_size,\n",
        "    batch_size=batch_size,\n",
        "    class_mode='categorical',\n",
        "    shuffle=False,\n",
        "    color_mode = 'rgb'\n",
        ")"
      ]
    },
    {
      "cell_type": "code",
      "execution_count": null,
      "metadata": {
        "id": "Vi_vVKP8a756"
      },
      "outputs": [],
      "source": [
        "from keras.models import Sequential"
      ]
    },
    {
      "cell_type": "code",
      "execution_count": null,
      "metadata": {
        "id": "uWx43bd1hv8q"
      },
      "outputs": [],
      "source": [
        "model = Sequential()\n",
        "model.add(Conv2D(input_shape=(224,224,3),filters=64,kernel_size=(3,3),padding=\"same\", activation=\"relu\"))\n",
        "model.add(Conv2D(filters=64,kernel_size=(3,3),padding=\"same\", activation=\"relu\"))\n",
        "model.add(MaxPool2D(pool_size=(2,2),strides=(2,2)))\n",
        "model.add(Conv2D(filters=128, kernel_size=(3,3), padding=\"same\", activation=\"relu\"))\n",
        "model.add(Conv2D(filters=128, kernel_size=(3,3), padding=\"same\", activation=\"relu\"))\n",
        "model.add(MaxPool2D(pool_size=(2,2),strides=(2,2)))\n",
        "model.add(Conv2D(filters=256, kernel_size=(3,3), padding=\"same\", activation=\"relu\"))\n",
        "model.add(Conv2D(filters=256, kernel_size=(3,3), padding=\"same\", activation=\"relu\"))\n",
        "model.add(Conv2D(filters=256, kernel_size=(3,3), padding=\"same\", activation=\"relu\"))\n",
        "model.add(MaxPool2D(pool_size=(2,2),strides=(2,2)))\n",
        "model.add(Conv2D(filters=512, kernel_size=(3,3), padding=\"same\", activation=\"relu\"))\n",
        "model.add(Conv2D(filters=512, kernel_size=(3,3), padding=\"same\", activation=\"relu\"))\n",
        "model.add(Conv2D(filters=512, kernel_size=(3,3), padding=\"same\", activation=\"relu\"))\n",
        "model.add(MaxPool2D(pool_size=(2,2),strides=(2,2)))\n",
        "model.add(Conv2D(filters=512, kernel_size=(3,3), padding=\"same\", activation=\"relu\"))\n",
        "model.add(Conv2D(filters=512, kernel_size=(3,3), padding=\"same\", activation=\"relu\"))\n",
        "model.add(Conv2D(filters=512, kernel_size=(3,3), padding=\"same\", activation=\"relu\"))\n",
        "model.add(MaxPool2D(pool_size=(2,2),strides=(2,2)))"
      ]
    },
    {
      "cell_type": "code",
      "execution_count": null,
      "metadata": {
        "id": "lw9MpTuhbPxs"
      },
      "outputs": [],
      "source": [
        "model.add(Flatten())\n",
        "model.add(Dense(units=4096,activation=\"relu\"))\n",
        "model.add(Dropout(0.8))\n",
        "model.add(Dense(units=4096,activation=\"relu\"))\n",
        "model.add(Dropout(0.8))\n",
        "model.add(Dense(units=2, activation=\"softmax\"))"
      ]
    },
    {
      "cell_type": "code",
      "execution_count": null,
      "metadata": {
        "id": "3-IEgz0cbTw-"
      },
      "outputs": [],
      "source": [
        "from keras.optimizers import Adam\n",
        "#opt = Adam(lr=0.001)\n",
        "model.compile(optimizer='Adam', loss='categorical_crossentropy', metrics=['accuracy'])"
      ]
    },
    {
      "cell_type": "code",
      "execution_count": null,
      "metadata": {
        "colab": {
          "base_uri": "https://localhost:8080/"
        },
        "id": "0LOudJ78bWLU",
        "outputId": "1a900f13-bd58-43b6-b843-e033a23efa3c"
      },
      "outputs": [
        {
          "output_type": "stream",
          "name": "stdout",
          "text": [
            "Model: \"sequential\"\n",
            "_________________________________________________________________\n",
            " Layer (type)                Output Shape              Param #   \n",
            "=================================================================\n",
            " conv2d_890 (Conv2D)         (None, 224, 224, 64)      1792      \n",
            "                                                                 \n",
            " conv2d_891 (Conv2D)         (None, 224, 224, 64)      36928     \n",
            "                                                                 \n",
            " max_pooling2d_6 (MaxPooling  (None, 112, 112, 64)     0         \n",
            " 2D)                                                             \n",
            "                                                                 \n",
            " conv2d_892 (Conv2D)         (None, 112, 112, 128)     73856     \n",
            "                                                                 \n",
            " conv2d_893 (Conv2D)         (None, 112, 112, 128)     147584    \n",
            "                                                                 \n",
            " max_pooling2d_7 (MaxPooling  (None, 56, 56, 128)      0         \n",
            " 2D)                                                             \n",
            "                                                                 \n",
            " conv2d_894 (Conv2D)         (None, 56, 56, 256)       295168    \n",
            "                                                                 \n",
            " conv2d_895 (Conv2D)         (None, 56, 56, 256)       590080    \n",
            "                                                                 \n",
            " conv2d_896 (Conv2D)         (None, 56, 56, 256)       590080    \n",
            "                                                                 \n",
            " max_pooling2d_8 (MaxPooling  (None, 28, 28, 256)      0         \n",
            " 2D)                                                             \n",
            "                                                                 \n",
            " conv2d_897 (Conv2D)         (None, 28, 28, 512)       1180160   \n",
            "                                                                 \n",
            " conv2d_898 (Conv2D)         (None, 28, 28, 512)       2359808   \n",
            "                                                                 \n",
            " conv2d_899 (Conv2D)         (None, 28, 28, 512)       2359808   \n",
            "                                                                 \n",
            " max_pooling2d_9 (MaxPooling  (None, 14, 14, 512)      0         \n",
            " 2D)                                                             \n",
            "                                                                 \n",
            " conv2d_900 (Conv2D)         (None, 14, 14, 512)       2359808   \n",
            "                                                                 \n",
            " conv2d_901 (Conv2D)         (None, 14, 14, 512)       2359808   \n",
            "                                                                 \n",
            " conv2d_902 (Conv2D)         (None, 14, 14, 512)       2359808   \n",
            "                                                                 \n",
            " max_pooling2d_10 (MaxPoolin  (None, 7, 7, 512)        0         \n",
            " g2D)                                                            \n",
            "                                                                 \n",
            " flatten (Flatten)           (None, 25088)             0         \n",
            "                                                                 \n",
            " dense_8 (Dense)             (None, 4096)              102764544 \n",
            "                                                                 \n",
            " dropout (Dropout)           (None, 4096)              0         \n",
            "                                                                 \n",
            " dense_9 (Dense)             (None, 4096)              16781312  \n",
            "                                                                 \n",
            " dropout_1 (Dropout)         (None, 4096)              0         \n",
            "                                                                 \n",
            " dense_10 (Dense)            (None, 2)                 8194      \n",
            "                                                                 \n",
            "=================================================================\n",
            "Total params: 134,268,738\n",
            "Trainable params: 134,268,738\n",
            "Non-trainable params: 0\n",
            "_________________________________________________________________\n"
          ]
        }
      ],
      "source": [
        "model.summary()"
      ]
    },
    {
      "cell_type": "code",
      "execution_count": null,
      "metadata": {
        "colab": {
          "base_uri": "https://localhost:8080/",
          "height": 707
        },
        "id": "ed-NCXH2bblE",
        "outputId": "02cdaed3-f0ed-4d07-fe18-547f7c51da44"
      },
      "outputs": [
        {
          "output_type": "display_data",
          "data": {
            "text/plain": [
              "<Figure size 864x576 with 2 Axes>"
            ],
            "image/png": "[encoded data removed]"
          },
          "metadata": {
            "needs_background": "light"
          }
        },
        {
          "output_type": "stream",
          "name": "stdout",
          "text": [
            "accuracy\n",
            "\ttraining         \t (min:    0.495, max:    0.513, cur:    0.499)\n",
            "\tvalidation       \t (min:    0.504, max:    0.504, cur:    0.504)\n",
            "Loss\n",
            "\ttraining         \t (min:    0.694, max:    0.740, cur:    0.695)\n",
            "\tvalidation       \t (min:    0.693, max:    0.699, cur:    0.693)\n",
            "\b\b\b\b\b\b\b\b\b\b\b\b\b\b\b\b\b\b\b\b\b\b\b\b\b\b\b\b\b\b\b\b\b\b\b\b\b\b\b\b\b\b\b\b\b\b\b\b\b\b\b\b\b\b\b\b\b\b\b\b\b\b\b\b\b\b\b\b\b\b\b\b\b\b\b\b\b\b\b\b\b\b\b\b\r125/125 [==============================] - 113s 902ms/step - loss: 0.6950 - accuracy: 0.4992 - val_loss: 0.6931 - val_accuracy: 0.5039\n"
          ]
        }
      ],
      "source": [
        "from keras.callbacks import ModelCheckpoint, EarlyStopping\n",
        "checkpoint = ModelCheckpoint(filepath='tl_model_v2.weights.best.hdf5', monitor='val_accuracy', verbose=1, save_best_only=True, save_weights_only=False, mode='max')\n",
        "early = EarlyStopping(monitor='val_loss', min_delta=0, patience=20,restore_best_weights=True, verbose=1, mode='min')\n",
        "hist = model.fit(train_generator,\n",
        "                            batch_size=32,\n",
        "                            epochs=10,\n",
        "                            validation_data=test_generator,\n",
        "                            callbacks=[checkpoint, early,PlotLossesCallback()],\n",
        "                            verbose=1)"
      ]
    },
    {
      "cell_type": "code",
      "execution_count": null,
      "metadata": {
        "id": "36G8qUWUhvgZ"
      },
      "outputs": [],
      "source": [
        "model.load_weights('tl_model_v2.weights.best.hdf5')"
      ]
    },
    {
      "cell_type": "code",
      "execution_count": null,
      "metadata": {
        "id": "eXeep4mpRisV",
        "colab": {
          "base_uri": "https://localhost:8080/"
        },
        "outputId": "db0fe005-281d-41ea-8d8b-04b61b0b4bd0"
      },
      "outputs": [
        {
          "output_type": "stream",
          "name": "stdout",
          "text": [
            "5/5 [==============================] - 4s 600ms/step - loss: 0.6986 - accuracy: 0.5039\n"
          ]
        }
      ],
      "source": [
        "metrics = model.evaluate(test_generator)"
      ]
    },
    {
      "cell_type": "code",
      "execution_count": null,
      "metadata": {
        "id": "01ou-7FFRioq",
        "colab": {
          "base_uri": "https://localhost:8080/",
          "height": 282
        },
        "outputId": "8295b782-9bd2-4f9d-9b51-addaeb47df03"
      },
      "outputs": [
        {
          "output_type": "display_data",
          "data": {
            "text/plain": [
              "<Figure size 432x288 with 1 Axes>"
            ],
            "image/png": "[encoded data removed]"
          },
          "metadata": {
            "needs_background": "light"
          }
        }
      ],
      "source": [
        "history = hist.history\n",
        "\n",
        "# Plot the accuracy and loss of the model over time\n",
        "plt.plot(history['accuracy'])\n",
        "plt.plot(history['loss'])\n",
        "plt.legend(['Accuracy', 'Loss'])\n",
        "plt.xlabel('Epoch')\n",
        "plt.ylabel('Metric')\n",
        "#plt.ylim([0.5, 1])\n",
        "plt.show()"
      ]
    },
    {
      "cell_type": "code",
      "execution_count": null,
      "metadata": {
        "id": "xgV6jXdBVaaj",
        "colab": {
          "base_uri": "https://localhost:8080/"
        },
        "outputId": "4ae0ede3-9cbb-432f-de0b-8688fb8af99f"
      },
      "outputs": [
        {
          "output_type": "stream",
          "name": "stderr",
          "text": [
            "WARNING:tensorflow:5 out of the last 15 calls to <function Model.make_predict_function.<locals>.predict_function at 0x7fba40f83b80> triggered tf.function retracing. Tracing is expensive and the excessive number of tracings could be due to (1) creating @tf.function repeatedly in a loop, (2) passing tensors with different shapes, (3) passing Python objects instead of tensors. For (1), please define your @tf.function outside of the loop. For (2), @tf.function has reduce_retracing=True option that can avoid unnecessary retracing. For (3), please refer to https://www.tensorflow.org/guide/function#controlling_retracing and https://www.tensorflow.org/api_docs/python/tf/function for  more details.\n"
          ]
        },
        {
          "output_type": "stream",
          "name": "stdout",
          "text": [
            "5/5 [==============================] - 4s 643ms/step\n"
          ]
        }
      ],
      "source": [
        "true_classes = test_generator.classes\n",
        "class_indices = train_generator.class_indices\n",
        "class_indices = dict((v,k) for k,v in class_indices.items())\n",
        "\n",
        "model_preds = model.predict(test_generator)\n",
        "model_pred_classes = np.argmax(model_preds, axis=1)"
      ]
    },
    {
      "cell_type": "code",
      "execution_count": null,
      "metadata": {
        "id": "pT9i0Z2xVctR",
        "colab": {
          "base_uri": "https://localhost:8080/"
        },
        "outputId": "e3ec2af0-ca05-4840-8eba-edfa1eac9548"
      },
      "outputs": [
        {
          "output_type": "stream",
          "name": "stdout",
          "text": [
            "VGG16 Model Accuracy : 50.39%\n"
          ]
        }
      ],
      "source": [
        "from sklearn.metrics import accuracy_score\n",
        "\n",
        "model_acc = accuracy_score(true_classes,model_pred_classes)\n",
        "print(\"VGG16 Model Accuracy : {:.2f}%\".format(model_acc * 100))"
      ]
    },
    {
      "cell_type": "code",
      "execution_count": null,
      "metadata": {
        "id": "q9ab-FbvVcnM"
      },
      "outputs": [],
      "source": [
        "from sklearn.metrics import confusion_matrix\n",
        "cm=confusion_matrix(true_classes,model_pred_classes)"
      ]
    },
    {
      "cell_type": "code",
      "execution_count": null,
      "metadata": {
        "id": "cytiq3RlVchp",
        "colab": {
          "base_uri": "https://localhost:8080/",
          "height": 296
        },
        "outputId": "b4991edd-c0fb-4cb8-fce7-234d15a2ba82"
      },
      "outputs": [
        {
          "output_type": "execute_result",
          "data": {
            "text/plain": [
              "Text(33.0, 0.5, 'Actual Value')"
            ]
          },
          "metadata": {},
          "execution_count": 144
        },
        {
          "output_type": "display_data",
          "data": {
            "text/plain": [
              "<Figure size 432x288 with 1 Axes>"
            ],
            "image/png": "[encoded data removed]"
          },
          "metadata": {
            "needs_background": "light"
          }
        }
      ],
      "source": [
        "from sklearn import metrics as mt\n",
        "sns.heatmap(cm, annot = True, cmap=\"Blues\",cbar=False);\n",
        "plt.xlabel('Predicted Value')\n",
        "plt.ylabel('Actual Value')"
      ]
    },
    {
      "cell_type": "code",
      "execution_count": null,
      "metadata": {
        "id": "WqvVdWJoVaVa",
        "colab": {
          "base_uri": "https://localhost:8080/"
        },
        "outputId": "c0295bf3-15b2-4758-a876-195894845c21"
      },
      "outputs": [
        {
          "output_type": "stream",
          "name": "stdout",
          "text": [
            "              precision    recall  f1-score   support\n",
            "\n",
            "           0       0.00      0.00      0.00        64\n",
            "           1       0.50      1.00      0.67        65\n",
            "\n",
            "    accuracy                           0.50       129\n",
            "   macro avg       0.25      0.50      0.34       129\n",
            "weighted avg       0.25      0.50      0.34       129\n",
            "\n"
          ]
        },
        {
          "output_type": "stream",
          "name": "stderr",
          "text": [
            "/usr/local/lib/python3.8/dist-packages/sklearn/metrics/_classification.py:1318: UndefinedMetricWarning: Precision and F-score are ill-defined and being set to 0.0 in labels with no predicted samples. Use `zero_division` parameter to control this behavior.\n",
            "  _warn_prf(average, modifier, msg_start, len(result))\n",
            "/usr/local/lib/python3.8/dist-packages/sklearn/metrics/_classification.py:1318: UndefinedMetricWarning: Precision and F-score are ill-defined and being set to 0.0 in labels with no predicted samples. Use `zero_division` parameter to control this behavior.\n",
            "  _warn_prf(average, modifier, msg_start, len(result))\n",
            "/usr/local/lib/python3.8/dist-packages/sklearn/metrics/_classification.py:1318: UndefinedMetricWarning: Precision and F-score are ill-defined and being set to 0.0 in labels with no predicted samples. Use `zero_division` parameter to control this behavior.\n",
            "  _warn_prf(average, modifier, msg_start, len(result))\n"
          ]
        }
      ],
      "source": [
        "print(mt.classification_report(true_classes, model_pred_classes))"
      ]
    },
    {
      "cell_type": "markdown",
      "metadata": {
        "id": "Gyt0pvx5do8O"
      },
      "source": [
        "# **Data** **Augmentation**"
      ]
    },
    {
      "cell_type": "code",
      "execution_count": null,
      "metadata": {
        "colab": {
          "base_uri": "https://localhost:8080/"
        },
        "id": "M3mJQNezmolL",
        "outputId": "ae4dc0d8-a292-4f9d-bef5-599915759d12"
      },
      "outputs": [
        {
          "output_type": "stream",
          "name": "stdout",
          "text": [
            "Found 3988 validated image filenames belonging to 2 classes.\n",
            "Found 129 validated image filenames belonging to 2 classes.\n"
          ]
        }
      ],
      "source": [
        "image_size = (224, 224)\n",
        "batch_size = 64\n",
        "\n",
        "# Create an ImageDataGenerator object with data augmentation options for image preprocessing\n",
        "train_datagen = ImageDataGenerator(\n",
        "    rescale=1./255,\n",
        "    rotation_range=45,\n",
        "    width_shift_range=0.2,\n",
        "    height_shift_range=0.2,\n",
        "    shear_range=0.2,\n",
        "    zoom_range=0.2,\n",
        "    horizontal_flip=True,\n",
        "    vertical_flip=True,\n",
        "    fill_mode='nearest'\n",
        ")\n",
        "\n",
        "test_datagen = ImageDataGenerator( rescale = 1./255) \n",
        "# Create a generator for the training data\n",
        "train_generator = train_datagen.flow_from_dataframe(\n",
        "    df_train,\n",
        "    x_col='image',\n",
        "    y_col='label',\n",
        "    target_size=image_size,\n",
        "    batch_size=batch_size,\n",
        "    class_mode='categorical',\n",
        "    shuffle=True,\n",
        "    color_mode = 'rgb'\n",
        ")\n",
        "\n",
        "# Create a generator for the test data\n",
        "test_generator = test_datagen.flow_from_dataframe(\n",
        "    df_test,\n",
        "    x_col='image',\n",
        "    y_col='label',\n",
        "    target_size=image_size,\n",
        "    batch_size=batch_size,\n",
        "    class_mode='categorical',\n",
        "    shuffle=False,\n",
        "    color_mode = 'rgb'\n",
        ")"
      ]
    },
    {
      "cell_type": "markdown",
      "metadata": {
        "id": "1qmW7LEDlMwj"
      },
      "source": [
        "# **Resnet**"
      ]
    },
    {
      "cell_type": "code",
      "execution_count": null,
      "metadata": {
        "id": "OMbOCLKmRilh"
      },
      "outputs": [],
      "source": [
        "def resnet(input_shape, n_classes):\n",
        "  \n",
        "  def conv_bn_rl(x, f, k=1, s=1, p='same'):\n",
        "    x = Conv2D(f, k, strides=s, padding=p)(x)\n",
        "    x = BatchNormalization()(x)\n",
        "    x = ReLU()(x)\n",
        "    return x\n",
        "  \n",
        "  \n",
        "  def identity_block(tensor, f):\n",
        "    x = conv_bn_rl(tensor, f)\n",
        "    x = conv_bn_rl(x, f, 3)\n",
        "    x = Conv2D(4*f, 1)(x)\n",
        "    x = BatchNormalization()(x)\n",
        "    \n",
        "    x = Add()([x, tensor])\n",
        "    output = ReLU()(x)\n",
        "    return output\n",
        "  \n",
        "  \n",
        "  def conv_block(tensor, f, s):\n",
        "    x = conv_bn_rl(tensor, f)\n",
        "    x = conv_bn_rl(x, f, 3, s)\n",
        "    x = Conv2D(4*f, 1)(x)\n",
        "    x = BatchNormalization()(x)\n",
        "    \n",
        "    shortcut = Conv2D(4*f, 1, strides=s)(tensor)\n",
        "    shortcut = BatchNormalization()(shortcut)\n",
        "    \n",
        "    x = Add()([x, shortcut])\n",
        "    output = ReLU()(x)\n",
        "    return output\n",
        "  \n",
        "  \n",
        "  def resnet_block(x, f, r, s=2):\n",
        "    x = conv_block(x, f, s)\n",
        "    for _ in range(r-1):\n",
        "      x = identity_block(x, f)\n",
        "    return x\n",
        "    \n",
        "  \n",
        "  input = Input(input_shape)\n",
        "  \n",
        "  x = conv_bn_rl(input, 64, 7, 2)\n",
        "  x = MaxPool2D(3, strides=2, padding='same')(x)\n",
        "  \n",
        "  x = resnet_block(x, 64, 3, 1)\n",
        "  x = resnet_block(x, 128, 4)\n",
        "  x = resnet_block(x, 256, 6)\n",
        "  x = resnet_block(x, 512, 3)\n",
        "  \n",
        "  x = GlobalAvgPool2D()(x)\n",
        "  \n",
        "  output = Dense(n_classes, activation='softmax')(x)\n",
        "  \n",
        "  model = Model(input, output)\n",
        "  return model"
      ]
    },
    {
      "cell_type": "code",
      "execution_count": null,
      "metadata": {
        "id": "CplGJU03Rihu"
      },
      "outputs": [],
      "source": [
        "img_shape = [224,224,3]\n",
        "resnet_model = resnet(img_shape,2)"
      ]
    },
    {
      "cell_type": "code",
      "execution_count": null,
      "metadata": {
        "colab": {
          "base_uri": "https://localhost:8080/"
        },
        "id": "xhiZZcjonc91",
        "outputId": "0203ab87-1de7-450a-bf1f-00043bebec2c"
      },
      "outputs": [
        {
          "output_type": "stream",
          "name": "stdout",
          "text": [
            "Model: \"model_3\"\n",
            "__________________________________________________________________________________________________\n",
            " Layer (type)                   Output Shape         Param #     Connected to                     \n",
            "==================================================================================================\n",
            " input_4 (InputLayer)           [(None, 224, 224, 3  0           []                               \n",
            "                                )]                                                                \n",
            "                                                                                                  \n",
            " conv2d_188 (Conv2D)            (None, 112, 112, 64  9472        ['input_4[0][0]']                \n",
            "                                )                                                                 \n",
            "                                                                                                  \n",
            " batch_normalization_200 (Batch  (None, 112, 112, 64  256        ['conv2d_188[0][0]']             \n",
            " Normalization)                 )                                                                 \n",
            "                                                                                                  \n",
            " re_lu_196 (ReLU)               (None, 112, 112, 64  0           ['batch_normalization_200[0][0]']\n",
            "                                )                                                                 \n",
            "                                                                                                  \n",
            " max_pooling2d_2 (MaxPooling2D)  (None, 56, 56, 64)  0           ['re_lu_196[0][0]']              \n",
            "                                                                                                  \n",
            " conv2d_189 (Conv2D)            (None, 56, 56, 64)   4160        ['max_pooling2d_2[0][0]']        \n",
            "                                                                                                  \n",
            " batch_normalization_201 (Batch  (None, 56, 56, 64)  256         ['conv2d_189[0][0]']             \n",
            " Normalization)                                                                                   \n",
            "                                                                                                  \n",
            " re_lu_197 (ReLU)               (None, 56, 56, 64)   0           ['batch_normalization_201[0][0]']\n",
            "                                                                                                  \n",
            " conv2d_190 (Conv2D)            (None, 56, 56, 64)   36928       ['re_lu_197[0][0]']              \n",
            "                                                                                                  \n",
            " batch_normalization_202 (Batch  (None, 56, 56, 64)  256         ['conv2d_190[0][0]']             \n",
            " Normalization)                                                                                   \n",
            "                                                                                                  \n",
            " re_lu_198 (ReLU)               (None, 56, 56, 64)   0           ['batch_normalization_202[0][0]']\n",
            "                                                                                                  \n",
            " conv2d_191 (Conv2D)            (None, 56, 56, 256)  16640       ['re_lu_198[0][0]']              \n",
            "                                                                                                  \n",
            " conv2d_192 (Conv2D)            (None, 56, 56, 256)  16640       ['max_pooling2d_2[0][0]']        \n",
            "                                                                                                  \n",
            " batch_normalization_203 (Batch  (None, 56, 56, 256)  1024       ['conv2d_191[0][0]']             \n",
            " Normalization)                                                                                   \n",
            "                                                                                                  \n",
            " batch_normalization_204 (Batch  (None, 56, 56, 256)  1024       ['conv2d_192[0][0]']             \n",
            " Normalization)                                                                                   \n",
            "                                                                                                  \n",
            " add_16 (Add)                   (None, 56, 56, 256)  0           ['batch_normalization_203[0][0]',\n",
            "                                                                  'batch_normalization_204[0][0]']\n",
            "                                                                                                  \n",
            " re_lu_199 (ReLU)               (None, 56, 56, 256)  0           ['add_16[0][0]']                 \n",
            "                                                                                                  \n",
            " conv2d_193 (Conv2D)            (None, 56, 56, 64)   16448       ['re_lu_199[0][0]']              \n",
            "                                                                                                  \n",
            " batch_normalization_205 (Batch  (None, 56, 56, 64)  256         ['conv2d_193[0][0]']             \n",
            " Normalization)                                                                                   \n",
            "                                                                                                  \n",
            " re_lu_200 (ReLU)               (None, 56, 56, 64)   0           ['batch_normalization_205[0][0]']\n",
            "                                                                                                  \n",
            " conv2d_194 (Conv2D)            (None, 56, 56, 64)   36928       ['re_lu_200[0][0]']              \n",
            "                                                                                                  \n",
            " batch_normalization_206 (Batch  (None, 56, 56, 64)  256         ['conv2d_194[0][0]']             \n",
            " Normalization)                                                                                   \n",
            "                                                                                                  \n",
            " re_lu_201 (ReLU)               (None, 56, 56, 64)   0           ['batch_normalization_206[0][0]']\n",
            "                                                                                                  \n",
            " conv2d_195 (Conv2D)            (None, 56, 56, 256)  16640       ['re_lu_201[0][0]']              \n",
            "                                                                                                  \n",
            " batch_normalization_207 (Batch  (None, 56, 56, 256)  1024       ['conv2d_195[0][0]']             \n",
            " Normalization)                                                                                   \n",
            "                                                                                                  \n",
            " add_17 (Add)                   (None, 56, 56, 256)  0           ['batch_normalization_207[0][0]',\n",
            "                                                                  're_lu_199[0][0]']              \n",
            "                                                                                                  \n",
            " re_lu_202 (ReLU)               (None, 56, 56, 256)  0           ['add_17[0][0]']                 \n",
            "                                                                                                  \n",
            " conv2d_196 (Conv2D)            (None, 56, 56, 64)   16448       ['re_lu_202[0][0]']              \n",
            "                                                                                                  \n",
            " batch_normalization_208 (Batch  (None, 56, 56, 64)  256         ['conv2d_196[0][0]']             \n",
            " Normalization)                                                                                   \n",
            "                                                                                                  \n",
            " re_lu_203 (ReLU)               (None, 56, 56, 64)   0           ['batch_normalization_208[0][0]']\n",
            "                                                                                                  \n",
            " conv2d_197 (Conv2D)            (None, 56, 56, 64)   36928       ['re_lu_203[0][0]']              \n",
            "                                                                                                  \n",
            " batch_normalization_209 (Batch  (None, 56, 56, 64)  256         ['conv2d_197[0][0]']             \n",
            " Normalization)                                                                                   \n",
            "                                                                                                  \n",
            " re_lu_204 (ReLU)               (None, 56, 56, 64)   0           ['batch_normalization_209[0][0]']\n",
            "                                                                                                  \n",
            " conv2d_198 (Conv2D)            (None, 56, 56, 256)  16640       ['re_lu_204[0][0]']              \n",
            "                                                                                                  \n",
            " batch_normalization_210 (Batch  (None, 56, 56, 256)  1024       ['conv2d_198[0][0]']             \n",
            " Normalization)                                                                                   \n",
            "                                                                                                  \n",
            " add_18 (Add)                   (None, 56, 56, 256)  0           ['batch_normalization_210[0][0]',\n",
            "                                                                  're_lu_202[0][0]']              \n",
            "                                                                                                  \n",
            " re_lu_205 (ReLU)               (None, 56, 56, 256)  0           ['add_18[0][0]']                 \n",
            "                                                                                                  \n",
            " conv2d_199 (Conv2D)            (None, 56, 56, 128)  32896       ['re_lu_205[0][0]']              \n",
            "                                                                                                  \n",
            " batch_normalization_211 (Batch  (None, 56, 56, 128)  512        ['conv2d_199[0][0]']             \n",
            " Normalization)                                                                                   \n",
            "                                                                                                  \n",
            " re_lu_206 (ReLU)               (None, 56, 56, 128)  0           ['batch_normalization_211[0][0]']\n",
            "                                                                                                  \n",
            " conv2d_200 (Conv2D)            (None, 28, 28, 128)  147584      ['re_lu_206[0][0]']              \n",
            "                                                                                                  \n",
            " batch_normalization_212 (Batch  (None, 28, 28, 128)  512        ['conv2d_200[0][0]']             \n",
            " Normalization)                                                                                   \n",
            "                                                                                                  \n",
            " re_lu_207 (ReLU)               (None, 28, 28, 128)  0           ['batch_normalization_212[0][0]']\n",
            "                                                                                                  \n",
            " conv2d_201 (Conv2D)            (None, 28, 28, 512)  66048       ['re_lu_207[0][0]']              \n",
            "                                                                                                  \n",
            " conv2d_202 (Conv2D)            (None, 28, 28, 512)  131584      ['re_lu_205[0][0]']              \n",
            "                                                                                                  \n",
            " batch_normalization_213 (Batch  (None, 28, 28, 512)  2048       ['conv2d_201[0][0]']             \n",
            " Normalization)                                                                                   \n",
            "                                                                                                  \n",
            " batch_normalization_214 (Batch  (None, 28, 28, 512)  2048       ['conv2d_202[0][0]']             \n",
            " Normalization)                                                                                   \n",
            "                                                                                                  \n",
            " add_19 (Add)                   (None, 28, 28, 512)  0           ['batch_normalization_213[0][0]',\n",
            "                                                                  'batch_normalization_214[0][0]']\n",
            "                                                                                                  \n",
            " re_lu_208 (ReLU)               (None, 28, 28, 512)  0           ['add_19[0][0]']                 \n",
            "                                                                                                  \n",
            " conv2d_203 (Conv2D)            (None, 28, 28, 128)  65664       ['re_lu_208[0][0]']              \n",
            "                                                                                                  \n",
            " batch_normalization_215 (Batch  (None, 28, 28, 128)  512        ['conv2d_203[0][0]']             \n",
            " Normalization)                                                                                   \n",
            "                                                                                                  \n",
            " re_lu_209 (ReLU)               (None, 28, 28, 128)  0           ['batch_normalization_215[0][0]']\n",
            "                                                                                                  \n",
            " conv2d_204 (Conv2D)            (None, 28, 28, 128)  147584      ['re_lu_209[0][0]']              \n",
            "                                                                                                  \n",
            " batch_normalization_216 (Batch  (None, 28, 28, 128)  512        ['conv2d_204[0][0]']             \n",
            " Normalization)                                                                                   \n",
            "                                                                                                  \n",
            " re_lu_210 (ReLU)               (None, 28, 28, 128)  0           ['batch_normalization_216[0][0]']\n",
            "                                                                                                  \n",
            " conv2d_205 (Conv2D)            (None, 28, 28, 512)  66048       ['re_lu_210[0][0]']              \n",
            "                                                                                                  \n",
            " batch_normalization_217 (Batch  (None, 28, 28, 512)  2048       ['conv2d_205[0][0]']             \n",
            " Normalization)                                                                                   \n",
            "                                                                                                  \n",
            " add_20 (Add)                   (None, 28, 28, 512)  0           ['batch_normalization_217[0][0]',\n",
            "                                                                  're_lu_208[0][0]']              \n",
            "                                                                                                  \n",
            " re_lu_211 (ReLU)               (None, 28, 28, 512)  0           ['add_20[0][0]']                 \n",
            "                                                                                                  \n",
            " conv2d_206 (Conv2D)            (None, 28, 28, 128)  65664       ['re_lu_211[0][0]']              \n",
            "                                                                                                  \n",
            " batch_normalization_218 (Batch  (None, 28, 28, 128)  512        ['conv2d_206[0][0]']             \n",
            " Normalization)                                                                                   \n",
            "                                                                                                  \n",
            " re_lu_212 (ReLU)               (None, 28, 28, 128)  0           ['batch_normalization_218[0][0]']\n",
            "                                                                                                  \n",
            " conv2d_207 (Conv2D)            (None, 28, 28, 128)  147584      ['re_lu_212[0][0]']              \n",
            "                                                                                                  \n",
            " batch_normalization_219 (Batch  (None, 28, 28, 128)  512        ['conv2d_207[0][0]']             \n",
            " Normalization)                                                                                   \n",
            "                                                                                                  \n",
            " re_lu_213 (ReLU)               (None, 28, 28, 128)  0           ['batch_normalization_219[0][0]']\n",
            "                                                                                                  \n",
            " conv2d_208 (Conv2D)            (None, 28, 28, 512)  66048       ['re_lu_213[0][0]']              \n",
            "                                                                                                  \n",
            " batch_normalization_220 (Batch  (None, 28, 28, 512)  2048       ['conv2d_208[0][0]']             \n",
            " Normalization)                                                                                   \n",
            "                                                                                                  \n",
            " add_21 (Add)                   (None, 28, 28, 512)  0           ['batch_normalization_220[0][0]',\n",
            "                                                                  're_lu_211[0][0]']              \n",
            "                                                                                                  \n",
            " re_lu_214 (ReLU)               (None, 28, 28, 512)  0           ['add_21[0][0]']                 \n",
            "                                                                                                  \n",
            " conv2d_209 (Conv2D)            (None, 28, 28, 128)  65664       ['re_lu_214[0][0]']              \n",
            "                                                                                                  \n",
            " batch_normalization_221 (Batch  (None, 28, 28, 128)  512        ['conv2d_209[0][0]']             \n",
            " Normalization)                                                                                   \n",
            "                                                                                                  \n",
            " re_lu_215 (ReLU)               (None, 28, 28, 128)  0           ['batch_normalization_221[0][0]']\n",
            "                                                                                                  \n",
            " conv2d_210 (Conv2D)            (None, 28, 28, 128)  147584      ['re_lu_215[0][0]']              \n",
            "                                                                                                  \n",
            " batch_normalization_222 (Batch  (None, 28, 28, 128)  512        ['conv2d_210[0][0]']             \n",
            " Normalization)                                                                                   \n",
            "                                                                                                  \n",
            " re_lu_216 (ReLU)               (None, 28, 28, 128)  0           ['batch_normalization_222[0][0]']\n",
            "                                                                                                  \n",
            " conv2d_211 (Conv2D)            (None, 28, 28, 512)  66048       ['re_lu_216[0][0]']              \n",
            "                                                                                                  \n",
            " batch_normalization_223 (Batch  (None, 28, 28, 512)  2048       ['conv2d_211[0][0]']             \n",
            " Normalization)                                                                                   \n",
            "                                                                                                  \n",
            " add_22 (Add)                   (None, 28, 28, 512)  0           ['batch_normalization_223[0][0]',\n",
            "                                                                  're_lu_214[0][0]']              \n",
            "                                                                                                  \n",
            " re_lu_217 (ReLU)               (None, 28, 28, 512)  0           ['add_22[0][0]']                 \n",
            "                                                                                                  \n",
            " conv2d_212 (Conv2D)            (None, 28, 28, 256)  131328      ['re_lu_217[0][0]']              \n",
            "                                                                                                  \n",
            " batch_normalization_224 (Batch  (None, 28, 28, 256)  1024       ['conv2d_212[0][0]']             \n",
            " Normalization)                                                                                   \n",
            "                                                                                                  \n",
            " re_lu_218 (ReLU)               (None, 28, 28, 256)  0           ['batch_normalization_224[0][0]']\n",
            "                                                                                                  \n",
            " conv2d_213 (Conv2D)            (None, 14, 14, 256)  590080      ['re_lu_218[0][0]']              \n",
            "                                                                                                  \n",
            " batch_normalization_225 (Batch  (None, 14, 14, 256)  1024       ['conv2d_213[0][0]']             \n",
            " Normalization)                                                                                   \n",
            "                                                                                                  \n",
            " re_lu_219 (ReLU)               (None, 14, 14, 256)  0           ['batch_normalization_225[0][0]']\n",
            "                                                                                                  \n",
            " conv2d_214 (Conv2D)            (None, 14, 14, 1024  263168      ['re_lu_219[0][0]']              \n",
            "                                )                                                                 \n",
            "                                                                                                  \n",
            " conv2d_215 (Conv2D)            (None, 14, 14, 1024  525312      ['re_lu_217[0][0]']              \n",
            "                                )                                                                 \n",
            "                                                                                                  \n",
            " batch_normalization_226 (Batch  (None, 14, 14, 1024  4096       ['conv2d_214[0][0]']             \n",
            " Normalization)                 )                                                                 \n",
            "                                                                                                  \n",
            " batch_normalization_227 (Batch  (None, 14, 14, 1024  4096       ['conv2d_215[0][0]']             \n",
            " Normalization)                 )                                                                 \n",
            "                                                                                                  \n",
            " add_23 (Add)                   (None, 14, 14, 1024  0           ['batch_normalization_226[0][0]',\n",
            "                                )                                 'batch_normalization_227[0][0]']\n",
            "                                                                                                  \n",
            " re_lu_220 (ReLU)               (None, 14, 14, 1024  0           ['add_23[0][0]']                 \n",
            "                                )                                                                 \n",
            "                                                                                                  \n",
            " conv2d_216 (Conv2D)            (None, 14, 14, 256)  262400      ['re_lu_220[0][0]']              \n",
            "                                                                                                  \n",
            " batch_normalization_228 (Batch  (None, 14, 14, 256)  1024       ['conv2d_216[0][0]']             \n",
            " Normalization)                                                                                   \n",
            "                                                                                                  \n",
            " re_lu_221 (ReLU)               (None, 14, 14, 256)  0           ['batch_normalization_228[0][0]']\n",
            "                                                                                                  \n",
            " conv2d_217 (Conv2D)            (None, 14, 14, 256)  590080      ['re_lu_221[0][0]']              \n",
            "                                                                                                  \n",
            " batch_normalization_229 (Batch  (None, 14, 14, 256)  1024       ['conv2d_217[0][0]']             \n",
            " Normalization)                                                                                   \n",
            "                                                                                                  \n",
            " re_lu_222 (ReLU)               (None, 14, 14, 256)  0           ['batch_normalization_229[0][0]']\n",
            "                                                                                                  \n",
            " conv2d_218 (Conv2D)            (None, 14, 14, 1024  263168      ['re_lu_222[0][0]']              \n",
            "                                )                                                                 \n",
            "                                                                                                  \n",
            " batch_normalization_230 (Batch  (None, 14, 14, 1024  4096       ['conv2d_218[0][0]']             \n",
            " Normalization)                 )                                                                 \n",
            "                                                                                                  \n",
            " add_24 (Add)                   (None, 14, 14, 1024  0           ['batch_normalization_230[0][0]',\n",
            "                                )                                 're_lu_220[0][0]']              \n",
            "                                                                                                  \n",
            " re_lu_223 (ReLU)               (None, 14, 14, 1024  0           ['add_24[0][0]']                 \n",
            "                                )                                                                 \n",
            "                                                                                                  \n",
            " conv2d_219 (Conv2D)            (None, 14, 14, 256)  262400      ['re_lu_223[0][0]']              \n",
            "                                                                                                  \n",
            " batch_normalization_231 (Batch  (None, 14, 14, 256)  1024       ['conv2d_219[0][0]']             \n",
            " Normalization)                                                                                   \n",
            "                                                                                                  \n",
            " re_lu_224 (ReLU)               (None, 14, 14, 256)  0           ['batch_normalization_231[0][0]']\n",
            "                                                                                                  \n",
            " conv2d_220 (Conv2D)            (None, 14, 14, 256)  590080      ['re_lu_224[0][0]']              \n",
            "                                                                                                  \n",
            " batch_normalization_232 (Batch  (None, 14, 14, 256)  1024       ['conv2d_220[0][0]']             \n",
            " Normalization)                                                                                   \n",
            "                                                                                                  \n",
            " re_lu_225 (ReLU)               (None, 14, 14, 256)  0           ['batch_normalization_232[0][0]']\n",
            "                                                                                                  \n",
            " conv2d_221 (Conv2D)            (None, 14, 14, 1024  263168      ['re_lu_225[0][0]']              \n",
            "                                )                                                                 \n",
            "                                                                                                  \n",
            " batch_normalization_233 (Batch  (None, 14, 14, 1024  4096       ['conv2d_221[0][0]']             \n",
            " Normalization)                 )                                                                 \n",
            "                                                                                                  \n",
            " add_25 (Add)                   (None, 14, 14, 1024  0           ['batch_normalization_233[0][0]',\n",
            "                                )                                 're_lu_223[0][0]']              \n",
            "                                                                                                  \n",
            " re_lu_226 (ReLU)               (None, 14, 14, 1024  0           ['add_25[0][0]']                 \n",
            "                                )                                                                 \n",
            "                                                                                                  \n",
            " conv2d_222 (Conv2D)            (None, 14, 14, 256)  262400      ['re_lu_226[0][0]']              \n",
            "                                                                                                  \n",
            " batch_normalization_234 (Batch  (None, 14, 14, 256)  1024       ['conv2d_222[0][0]']             \n",
            " Normalization)                                                                                   \n",
            "                                                                                                  \n",
            " re_lu_227 (ReLU)               (None, 14, 14, 256)  0           ['batch_normalization_234[0][0]']\n",
            "                                                                                                  \n",
            " conv2d_223 (Conv2D)            (None, 14, 14, 256)  590080      ['re_lu_227[0][0]']              \n",
            "                                                                                                  \n",
            " batch_normalization_235 (Batch  (None, 14, 14, 256)  1024       ['conv2d_223[0][0]']             \n",
            " Normalization)                                                                                   \n",
            "                                                                                                  \n",
            " re_lu_228 (ReLU)               (None, 14, 14, 256)  0           ['batch_normalization_235[0][0]']\n",
            "                                                                                                  \n",
            " conv2d_224 (Conv2D)            (None, 14, 14, 1024  263168      ['re_lu_228[0][0]']              \n",
            "                                )                                                                 \n",
            "                                                                                                  \n",
            " batch_normalization_236 (Batch  (None, 14, 14, 1024  4096       ['conv2d_224[0][0]']             \n",
            " Normalization)                 )                                                                 \n",
            "                                                                                                  \n",
            " add_26 (Add)                   (None, 14, 14, 1024  0           ['batch_normalization_236[0][0]',\n",
            "                                )                                 're_lu_226[0][0]']              \n",
            "                                                                                                  \n",
            " re_lu_229 (ReLU)               (None, 14, 14, 1024  0           ['add_26[0][0]']                 \n",
            "                                )                                                                 \n",
            "                                                                                                  \n",
            " conv2d_225 (Conv2D)            (None, 14, 14, 256)  262400      ['re_lu_229[0][0]']              \n",
            "                                                                                                  \n",
            " batch_normalization_237 (Batch  (None, 14, 14, 256)  1024       ['conv2d_225[0][0]']             \n",
            " Normalization)                                                                                   \n",
            "                                                                                                  \n",
            " re_lu_230 (ReLU)               (None, 14, 14, 256)  0           ['batch_normalization_237[0][0]']\n",
            "                                                                                                  \n",
            " conv2d_226 (Conv2D)            (None, 14, 14, 256)  590080      ['re_lu_230[0][0]']              \n",
            "                                                                                                  \n",
            " batch_normalization_238 (Batch  (None, 14, 14, 256)  1024       ['conv2d_226[0][0]']             \n",
            " Normalization)                                                                                   \n",
            "                                                                                                  \n",
            " re_lu_231 (ReLU)               (None, 14, 14, 256)  0           ['batch_normalization_238[0][0]']\n",
            "                                                                                                  \n",
            " conv2d_227 (Conv2D)            (None, 14, 14, 1024  263168      ['re_lu_231[0][0]']              \n",
            "                                )                                                                 \n",
            "                                                                                                  \n",
            " batch_normalization_239 (Batch  (None, 14, 14, 1024  4096       ['conv2d_227[0][0]']             \n",
            " Normalization)                 )                                                                 \n",
            "                                                                                                  \n",
            " add_27 (Add)                   (None, 14, 14, 1024  0           ['batch_normalization_239[0][0]',\n",
            "                                )                                 're_lu_229[0][0]']              \n",
            "                                                                                                  \n",
            " re_lu_232 (ReLU)               (None, 14, 14, 1024  0           ['add_27[0][0]']                 \n",
            "                                )                                                                 \n",
            "                                                                                                  \n",
            " conv2d_228 (Conv2D)            (None, 14, 14, 256)  262400      ['re_lu_232[0][0]']              \n",
            "                                                                                                  \n",
            " batch_normalization_240 (Batch  (None, 14, 14, 256)  1024       ['conv2d_228[0][0]']             \n",
            " Normalization)                                                                                   \n",
            "                                                                                                  \n",
            " re_lu_233 (ReLU)               (None, 14, 14, 256)  0           ['batch_normalization_240[0][0]']\n",
            "                                                                                                  \n",
            " conv2d_229 (Conv2D)            (None, 14, 14, 256)  590080      ['re_lu_233[0][0]']              \n",
            "                                                                                                  \n",
            " batch_normalization_241 (Batch  (None, 14, 14, 256)  1024       ['conv2d_229[0][0]']             \n",
            " Normalization)                                                                                   \n",
            "                                                                                                  \n",
            " re_lu_234 (ReLU)               (None, 14, 14, 256)  0           ['batch_normalization_241[0][0]']\n",
            "                                                                                                  \n",
            " conv2d_230 (Conv2D)            (None, 14, 14, 1024  263168      ['re_lu_234[0][0]']              \n",
            "                                )                                                                 \n",
            "                                                                                                  \n",
            " batch_normalization_242 (Batch  (None, 14, 14, 1024  4096       ['conv2d_230[0][0]']             \n",
            " Normalization)                 )                                                                 \n",
            "                                                                                                  \n",
            " add_28 (Add)                   (None, 14, 14, 1024  0           ['batch_normalization_242[0][0]',\n",
            "                                )                                 're_lu_232[0][0]']              \n",
            "                                                                                                  \n",
            " re_lu_235 (ReLU)               (None, 14, 14, 1024  0           ['add_28[0][0]']                 \n",
            "                                )                                                                 \n",
            "                                                                                                  \n",
            " conv2d_231 (Conv2D)            (None, 14, 14, 512)  524800      ['re_lu_235[0][0]']              \n",
            "                                                                                                  \n",
            " batch_normalization_243 (Batch  (None, 14, 14, 512)  2048       ['conv2d_231[0][0]']             \n",
            " Normalization)                                                                                   \n",
            "                                                                                                  \n",
            " re_lu_236 (ReLU)               (None, 14, 14, 512)  0           ['batch_normalization_243[0][0]']\n",
            "                                                                                                  \n",
            " conv2d_232 (Conv2D)            (None, 7, 7, 512)    2359808     ['re_lu_236[0][0]']              \n",
            "                                                                                                  \n",
            " batch_normalization_244 (Batch  (None, 7, 7, 512)   2048        ['conv2d_232[0][0]']             \n",
            " Normalization)                                                                                   \n",
            "                                                                                                  \n",
            " re_lu_237 (ReLU)               (None, 7, 7, 512)    0           ['batch_normalization_244[0][0]']\n",
            "                                                                                                  \n",
            " conv2d_233 (Conv2D)            (None, 7, 7, 2048)   1050624     ['re_lu_237[0][0]']              \n",
            "                                                                                                  \n",
            " conv2d_234 (Conv2D)            (None, 7, 7, 2048)   2099200     ['re_lu_235[0][0]']              \n",
            "                                                                                                  \n",
            " batch_normalization_245 (Batch  (None, 7, 7, 2048)  8192        ['conv2d_233[0][0]']             \n",
            " Normalization)                                                                                   \n",
            "                                                                                                  \n",
            " batch_normalization_246 (Batch  (None, 7, 7, 2048)  8192        ['conv2d_234[0][0]']             \n",
            " Normalization)                                                                                   \n",
            "                                                                                                  \n",
            " add_29 (Add)                   (None, 7, 7, 2048)   0           ['batch_normalization_245[0][0]',\n",
            "                                                                  'batch_normalization_246[0][0]']\n",
            "                                                                                                  \n",
            " re_lu_238 (ReLU)               (None, 7, 7, 2048)   0           ['add_29[0][0]']                 \n",
            "                                                                                                  \n",
            " conv2d_235 (Conv2D)            (None, 7, 7, 512)    1049088     ['re_lu_238[0][0]']              \n",
            "                                                                                                  \n",
            " batch_normalization_247 (Batch  (None, 7, 7, 512)   2048        ['conv2d_235[0][0]']             \n",
            " Normalization)                                                                                   \n",
            "                                                                                                  \n",
            " re_lu_239 (ReLU)               (None, 7, 7, 512)    0           ['batch_normalization_247[0][0]']\n",
            "                                                                                                  \n",
            " conv2d_236 (Conv2D)            (None, 7, 7, 512)    2359808     ['re_lu_239[0][0]']              \n",
            "                                                                                                  \n",
            " batch_normalization_248 (Batch  (None, 7, 7, 512)   2048        ['conv2d_236[0][0]']             \n",
            " Normalization)                                                                                   \n",
            "                                                                                                  \n",
            " re_lu_240 (ReLU)               (None, 7, 7, 512)    0           ['batch_normalization_248[0][0]']\n",
            "                                                                                                  \n",
            " conv2d_237 (Conv2D)            (None, 7, 7, 2048)   1050624     ['re_lu_240[0][0]']              \n",
            "                                                                                                  \n",
            " batch_normalization_249 (Batch  (None, 7, 7, 2048)  8192        ['conv2d_237[0][0]']             \n",
            " Normalization)                                                                                   \n",
            "                                                                                                  \n",
            " add_30 (Add)                   (None, 7, 7, 2048)   0           ['batch_normalization_249[0][0]',\n",
            "                                                                  're_lu_238[0][0]']              \n",
            "                                                                                                  \n",
            " re_lu_241 (ReLU)               (None, 7, 7, 2048)   0           ['add_30[0][0]']                 \n",
            "                                                                                                  \n",
            " conv2d_238 (Conv2D)            (None, 7, 7, 512)    1049088     ['re_lu_241[0][0]']              \n",
            "                                                                                                  \n",
            " batch_normalization_250 (Batch  (None, 7, 7, 512)   2048        ['conv2d_238[0][0]']             \n",
            " Normalization)                                                                                   \n",
            "                                                                                                  \n",
            " re_lu_242 (ReLU)               (None, 7, 7, 512)    0           ['batch_normalization_250[0][0]']\n",
            "                                                                                                  \n",
            " conv2d_239 (Conv2D)            (None, 7, 7, 512)    2359808     ['re_lu_242[0][0]']              \n",
            "                                                                                                  \n",
            " batch_normalization_251 (Batch  (None, 7, 7, 512)   2048        ['conv2d_239[0][0]']             \n",
            " Normalization)                                                                                   \n",
            "                                                                                                  \n",
            " re_lu_243 (ReLU)               (None, 7, 7, 512)    0           ['batch_normalization_251[0][0]']\n",
            "                                                                                                  \n",
            " conv2d_240 (Conv2D)            (None, 7, 7, 2048)   1050624     ['re_lu_243[0][0]']              \n",
            "                                                                                                  \n",
            " batch_normalization_252 (Batch  (None, 7, 7, 2048)  8192        ['conv2d_240[0][0]']             \n",
            " Normalization)                                                                                   \n",
            "                                                                                                  \n",
            " add_31 (Add)                   (None, 7, 7, 2048)   0           ['batch_normalization_252[0][0]',\n",
            "                                                                  're_lu_241[0][0]']              \n",
            "                                                                                                  \n",
            " re_lu_244 (ReLU)               (None, 7, 7, 2048)   0           ['add_31[0][0]']                 \n",
            "                                                                                                  \n",
            " global_average_pooling2d_3 (Gl  (None, 2048)        0           ['re_lu_244[0][0]']              \n",
            " obalAveragePooling2D)                                                                            \n",
            "                                                                                                  \n",
            " dense_3 (Dense)                (None, 2)            4098        ['global_average_pooling2d_3[0][0\n",
            "                                                                 ]']                              \n",
            "                                                                                                  \n",
            "==================================================================================================\n",
            "Total params: 23,591,810\n",
            "Trainable params: 23,538,690\n",
            "Non-trainable params: 53,120\n",
            "__________________________________________________________________________________________________\n"
          ]
        }
      ],
      "source": [
        "resnet_model.summary()"
      ]
    },
    {
      "cell_type": "code",
      "execution_count": null,
      "metadata": {
        "id": "ZYsreVtBRid7"
      },
      "outputs": [],
      "source": [
        "resnet_model.compile(optimizer='adam', loss='categorical_crossentropy', metrics=['accuracy'])"
      ]
    },
    {
      "cell_type": "code",
      "execution_count": null,
      "metadata": {
        "id": "vv9ZylvUhvUs"
      },
      "outputs": [],
      "source": [
        "tl_checkpoint_3 = ModelCheckpoint(filepath='tl_model_v3.weights.best.hdf5',\n",
        "                                  save_best_only=True,\n",
        "                                  monitor='val_accuracy', mode='max',\n",
        "                                  verbose=1)\n",
        "\n",
        "# EarlyStopping\n",
        "early_stop_3 = EarlyStopping(monitor='val_loss',\n",
        "                           patience=10,\n",
        "                           restore_best_weights=True,\n",
        "                           mode='min')"
      ]
    },
    {
      "cell_type": "code",
      "execution_count": null,
      "metadata": {
        "colab": {
          "base_uri": "https://localhost:8080/",
          "height": 707
        },
        "id": "eo9bkG_Mly7b",
        "outputId": "2e0fb928-812c-4578-9213-968827ba9033"
      },
      "outputs": [
        {
          "output_type": "display_data",
          "data": {
            "text/plain": [
              "<Figure size 864x576 with 2 Axes>"
            ],
            "image/png": "[encoded data removed]"
          },
          "metadata": {
            "needs_background": "light"
          }
        },
        {
          "output_type": "stream",
          "name": "stdout",
          "text": [
            "accuracy\n",
            "\ttraining         \t (min:    0.778, max:    0.898, cur:    0.898)\n",
            "\tvalidation       \t (min:    0.488, max:    0.891, cur:    0.891)\n",
            "Loss\n",
            "\ttraining         \t (min:    0.224, max:    0.744, cur:    0.224)\n",
            "\tvalidation       \t (min:    0.417, max:   63.282, cur:    1.644)\n",
            "\b\b\b\b\b\b\b\b\b\b\b\b\b\b\b\b\b\b\b\b\b\b\b\b\b\b\b\b\b\b\b\b\b\b\b\b\b\b\b\b\b\b\b\b\b\b\b\b\b\b\b\b\b\b\b\b\b\b\b\b\b\b\b\b\b\b\b\b\b\b\b\b\b\b\b\b\b\b\b\b\b\b\r63/63 [==============================] - 102s 2s/step - loss: 0.2236 - accuracy: 0.8984 - val_loss: 1.6438 - val_accuracy: 0.8915\n"
          ]
        }
      ],
      "source": [
        "resnet_model_history  = resnet_model.fit(train_generator,\n",
        "                            batch_size=64,\n",
        "                            epochs=10,\n",
        "                            validation_data=test_generator,\n",
        "                            callbacks=[tl_checkpoint_3, early_stop_3,PlotLossesCallback()],\n",
        "                            verbose=1)"
      ]
    },
    {
      "cell_type": "code",
      "execution_count": null,
      "metadata": {
        "id": "3prHrjAbloSd"
      },
      "outputs": [],
      "source": [
        "resnet_model.load_weights('tl_model_v3.weights.best.hdf5')"
      ]
    },
    {
      "cell_type": "code",
      "execution_count": null,
      "metadata": {
        "id": "ZXAq01noloNG",
        "colab": {
          "base_uri": "https://localhost:8080/"
        },
        "outputId": "44b40a14-3315-4db2-c0b8-0ab71d1bc81c"
      },
      "outputs": [
        {
          "output_type": "stream",
          "name": "stdout",
          "text": [
            "3/3 [==============================] - 2s 482ms/step - loss: 1.6438 - accuracy: 0.8915\n"
          ]
        }
      ],
      "source": [
        "metrics = resnet_model.evaluate(test_generator)"
      ]
    },
    {
      "cell_type": "code",
      "execution_count": null,
      "metadata": {
        "id": "7qBh6pNIlq18",
        "colab": {
          "base_uri": "https://localhost:8080/",
          "height": 279
        },
        "outputId": "5b3b4c71-519d-49d1-c946-052f659f47d4"
      },
      "outputs": [
        {
          "output_type": "display_data",
          "data": {
            "text/plain": [
              "<Figure size 432x288 with 1 Axes>"
            ],
            "image/png": "[encoded data removed]"
          },
          "metadata": {
            "needs_background": "light"
          }
        }
      ],
      "source": [
        "history = resnet_model_history.history\n",
        "\n",
        "# Plot the accuracy and loss of the model over time\n",
        "plt.plot(history['accuracy'])\n",
        "plt.plot(history['loss'])\n",
        "plt.legend(['Accuracy', 'Loss'])\n",
        "plt.xlabel('Epoch')\n",
        "plt.ylabel('Metric')\n",
        "#plt.ylim([0.5, 1])\n",
        "plt.show()"
      ]
    },
    {
      "cell_type": "code",
      "execution_count": null,
      "metadata": {
        "id": "0F_v_GIcCt1p",
        "colab": {
          "base_uri": "https://localhost:8080/"
        },
        "outputId": "b4e44143-fc90-4d3d-f433-ff9ae347a785"
      },
      "outputs": [
        {
          "output_type": "stream",
          "name": "stdout",
          "text": [
            "3/3 [==============================] - 3s 606ms/step\n"
          ]
        }
      ],
      "source": [
        "true_classes = test_generator.classes\n",
        "class_indices = train_generator.class_indices\n",
        "class_indices = dict((v,k) for k,v in class_indices.items())\n",
        "\n",
        "model_preds = resnet_model.predict(test_generator)\n",
        "model_pred_classes = np.argmax(model_preds, axis=1)"
      ]
    },
    {
      "cell_type": "code",
      "execution_count": null,
      "metadata": {
        "id": "EGXw1epeC4D9",
        "colab": {
          "base_uri": "https://localhost:8080/"
        },
        "outputId": "0c6b9198-a01a-491c-b3ff-d5a1ea70dacd"
      },
      "outputs": [
        {
          "output_type": "stream",
          "name": "stdout",
          "text": [
            "ResNet Model Accuracy : 89.15%\n"
          ]
        }
      ],
      "source": [
        "from sklearn.metrics import accuracy_score\n",
        "\n",
        "model_acc = accuracy_score(true_classes,model_pred_classes)\n",
        "print(\"ResNet Model Accuracy : {:.2f}%\".format(model_acc * 100))"
      ]
    },
    {
      "cell_type": "code",
      "execution_count": null,
      "metadata": {
        "id": "p-_IMHSPDACa"
      },
      "outputs": [],
      "source": [
        "from sklearn.metrics import confusion_matrix\n",
        "cm=confusion_matrix(true_classes,model_pred_classes)"
      ]
    },
    {
      "cell_type": "code",
      "execution_count": null,
      "metadata": {
        "id": "Im7jCIemDCX1",
        "colab": {
          "base_uri": "https://localhost:8080/",
          "height": 296
        },
        "outputId": "41e5ba99-1c2e-4d55-adda-8222532e4157"
      },
      "outputs": [
        {
          "output_type": "execute_result",
          "data": {
            "text/plain": [
              "Text(33.0, 0.5, 'Actual Value')"
            ]
          },
          "metadata": {},
          "execution_count": 81
        },
        {
          "output_type": "display_data",
          "data": {
            "text/plain": [
              "<Figure size 432x288 with 1 Axes>"
            ],
            "image/png": "[encoded data removed]"
          },
          "metadata": {
            "needs_background": "light"
          }
        }
      ],
      "source": [
        "from sklearn import metrics\n",
        "sns.heatmap(cm, annot = True, cmap=\"Blues\",cbar=False);\n",
        "plt.xlabel('Predicted Value')\n",
        "plt.ylabel('Actual Value')"
      ]
    },
    {
      "cell_type": "code",
      "execution_count": null,
      "metadata": {
        "id": "zLtFCp9EDHWF"
      },
      "outputs": [],
      "source": [
        "from sklearn import metrics as mt"
      ]
    },
    {
      "cell_type": "code",
      "execution_count": null,
      "metadata": {
        "id": "4LVCPH8DDHQm",
        "colab": {
          "base_uri": "https://localhost:8080/"
        },
        "outputId": "8ed41cc8-60a6-46a9-e02e-88ee138a6032"
      },
      "outputs": [
        {
          "output_type": "stream",
          "name": "stdout",
          "text": [
            "              precision    recall  f1-score   support\n",
            "\n",
            "           0       0.83      0.98      0.90        64\n",
            "           1       0.98      0.80      0.88        65\n",
            "\n",
            "    accuracy                           0.89       129\n",
            "   macro avg       0.91      0.89      0.89       129\n",
            "weighted avg       0.91      0.89      0.89       129\n",
            "\n"
          ]
        }
      ],
      "source": [
        "print(mt.classification_report(true_classes, model_pred_classes))"
      ]
    },
    {
      "cell_type": "markdown",
      "metadata": {
        "id": "_XGCc8RvnKZB"
      },
      "source": [
        "# **Mobile** **Net**"
      ]
    },
    {
      "cell_type": "code",
      "execution_count": null,
      "metadata": {
        "id": "uDM0VQhvnP_f"
      },
      "outputs": [],
      "source": [
        "def mobilenet(input_shape, n_classes):\n",
        "  \n",
        "  def mobilenet_block(x, f, s=1):\n",
        "    x = DepthwiseConv2D(3, strides=s, padding='same')(x)\n",
        "    x = BatchNormalization()(x)\n",
        "    x = ReLU()(x)\n",
        "    \n",
        "    x = Conv2D(f, 1, strides=1, padding='same')(x)\n",
        "    x = BatchNormalization()(x)\n",
        "    x = ReLU()(x)\n",
        "    return x\n",
        "    \n",
        "    \n",
        "  input = Input(input_shape)\n",
        "\n",
        "  x = Conv2D(32, 3, strides=2, padding='same')(input)\n",
        "  x = BatchNormalization()(x)\n",
        "  x = ReLU()(x)\n",
        "\n",
        "  x = mobilenet_block(x, 64)\n",
        "  x = mobilenet_block(x, 128, 2)\n",
        "  x = mobilenet_block(x, 128)\n",
        "\n",
        "  x = mobilenet_block(x, 256, 2)\n",
        "  x = mobilenet_block(x, 256)\n",
        "\n",
        "  x = mobilenet_block(x, 512, 2)\n",
        "  for _ in range(5):\n",
        "    x = mobilenet_block(x, 512)\n",
        "\n",
        "  x = mobilenet_block(x, 1024, 2)\n",
        "  x = mobilenet_block(x, 1024)\n",
        "  \n",
        "  x = GlobalAvgPool2D()(x)\n",
        "  \n",
        "  output = Dense(n_classes, activation='softmax')(x)\n",
        "  \n",
        "  model = Model(input, output)\n",
        "  return model"
      ]
    },
    {
      "cell_type": "code",
      "execution_count": null,
      "metadata": {
        "id": "zKmtBbFOnT7N"
      },
      "outputs": [],
      "source": [
        "img_shape = [224,224,3]\n",
        "mobilenet_model = mobilenet(img_shape,2)"
      ]
    },
    {
      "cell_type": "code",
      "execution_count": null,
      "metadata": {
        "colab": {
          "base_uri": "https://localhost:8080/"
        },
        "id": "6lPisdUXnaaK",
        "outputId": "8e22e0c7-d44e-45c2-dced-7bc7331ca414"
      },
      "outputs": [
        {
          "output_type": "stream",
          "name": "stdout",
          "text": [
            "Model: \"model_4\"\n",
            "_________________________________________________________________\n",
            " Layer (type)                Output Shape              Param #   \n",
            "=================================================================\n",
            " input_5 (InputLayer)        [(None, 224, 224, 3)]     0         \n",
            "                                                                 \n",
            " conv2d_241 (Conv2D)         (None, 112, 112, 32)      896       \n",
            "                                                                 \n",
            " batch_normalization_253 (Ba  (None, 112, 112, 32)     128       \n",
            " tchNormalization)                                               \n",
            "                                                                 \n",
            " re_lu_245 (ReLU)            (None, 112, 112, 32)      0         \n",
            "                                                                 \n",
            " depthwise_conv2d_13 (Depthw  (None, 112, 112, 32)     320       \n",
            " iseConv2D)                                                      \n",
            "                                                                 \n",
            " batch_normalization_254 (Ba  (None, 112, 112, 32)     128       \n",
            " tchNormalization)                                               \n",
            "                                                                 \n",
            " re_lu_246 (ReLU)            (None, 112, 112, 32)      0         \n",
            "                                                                 \n",
            " conv2d_242 (Conv2D)         (None, 112, 112, 64)      2112      \n",
            "                                                                 \n",
            " batch_normalization_255 (Ba  (None, 112, 112, 64)     256       \n",
            " tchNormalization)                                               \n",
            "                                                                 \n",
            " re_lu_247 (ReLU)            (None, 112, 112, 64)      0         \n",
            "                                                                 \n",
            " depthwise_conv2d_14 (Depthw  (None, 56, 56, 64)       640       \n",
            " iseConv2D)                                                      \n",
            "                                                                 \n",
            " batch_normalization_256 (Ba  (None, 56, 56, 64)       256       \n",
            " tchNormalization)                                               \n",
            "                                                                 \n",
            " re_lu_248 (ReLU)            (None, 56, 56, 64)        0         \n",
            "                                                                 \n",
            " conv2d_243 (Conv2D)         (None, 56, 56, 128)       8320      \n",
            "                                                                 \n",
            " batch_normalization_257 (Ba  (None, 56, 56, 128)      512       \n",
            " tchNormalization)                                               \n",
            "                                                                 \n",
            " re_lu_249 (ReLU)            (None, 56, 56, 128)       0         \n",
            "                                                                 \n",
            " depthwise_conv2d_15 (Depthw  (None, 56, 56, 128)      1280      \n",
            " iseConv2D)                                                      \n",
            "                                                                 \n",
            " batch_normalization_258 (Ba  (None, 56, 56, 128)      512       \n",
            " tchNormalization)                                               \n",
            "                                                                 \n",
            " re_lu_250 (ReLU)            (None, 56, 56, 128)       0         \n",
            "                                                                 \n",
            " conv2d_244 (Conv2D)         (None, 56, 56, 128)       16512     \n",
            "                                                                 \n",
            " batch_normalization_259 (Ba  (None, 56, 56, 128)      512       \n",
            " tchNormalization)                                               \n",
            "                                                                 \n",
            " re_lu_251 (ReLU)            (None, 56, 56, 128)       0         \n",
            "                                                                 \n",
            " depthwise_conv2d_16 (Depthw  (None, 28, 28, 128)      1280      \n",
            " iseConv2D)                                                      \n",
            "                                                                 \n",
            " batch_normalization_260 (Ba  (None, 28, 28, 128)      512       \n",
            " tchNormalization)                                               \n",
            "                                                                 \n",
            " re_lu_252 (ReLU)            (None, 28, 28, 128)       0         \n",
            "                                                                 \n",
            " conv2d_245 (Conv2D)         (None, 28, 28, 256)       33024     \n",
            "                                                                 \n",
            " batch_normalization_261 (Ba  (None, 28, 28, 256)      1024      \n",
            " tchNormalization)                                               \n",
            "                                                                 \n",
            " re_lu_253 (ReLU)            (None, 28, 28, 256)       0         \n",
            "                                                                 \n",
            " depthwise_conv2d_17 (Depthw  (None, 28, 28, 256)      2560      \n",
            " iseConv2D)                                                      \n",
            "                                                                 \n",
            " batch_normalization_262 (Ba  (None, 28, 28, 256)      1024      \n",
            " tchNormalization)                                               \n",
            "                                                                 \n",
            " re_lu_254 (ReLU)            (None, 28, 28, 256)       0         \n",
            "                                                                 \n",
            " conv2d_246 (Conv2D)         (None, 28, 28, 256)       65792     \n",
            "                                                                 \n",
            " batch_normalization_263 (Ba  (None, 28, 28, 256)      1024      \n",
            " tchNormalization)                                               \n",
            "                                                                 \n",
            " re_lu_255 (ReLU)            (None, 28, 28, 256)       0         \n",
            "                                                                 \n",
            " depthwise_conv2d_18 (Depthw  (None, 14, 14, 256)      2560      \n",
            " iseConv2D)                                                      \n",
            "                                                                 \n",
            " batch_normalization_264 (Ba  (None, 14, 14, 256)      1024      \n",
            " tchNormalization)                                               \n",
            "                                                                 \n",
            " re_lu_256 (ReLU)            (None, 14, 14, 256)       0         \n",
            "                                                                 \n",
            " conv2d_247 (Conv2D)         (None, 14, 14, 512)       131584    \n",
            "                                                                 \n",
            " batch_normalization_265 (Ba  (None, 14, 14, 512)      2048      \n",
            " tchNormalization)                                               \n",
            "                                                                 \n",
            " re_lu_257 (ReLU)            (None, 14, 14, 512)       0         \n",
            "                                                                 \n",
            " depthwise_conv2d_19 (Depthw  (None, 14, 14, 512)      5120      \n",
            " iseConv2D)                                                      \n",
            "                                                                 \n",
            " batch_normalization_266 (Ba  (None, 14, 14, 512)      2048      \n",
            " tchNormalization)                                               \n",
            "                                                                 \n",
            " re_lu_258 (ReLU)            (None, 14, 14, 512)       0         \n",
            "                                                                 \n",
            " conv2d_248 (Conv2D)         (None, 14, 14, 512)       262656    \n",
            "                                                                 \n",
            " batch_normalization_267 (Ba  (None, 14, 14, 512)      2048      \n",
            " tchNormalization)                                               \n",
            "                                                                 \n",
            " re_lu_259 (ReLU)            (None, 14, 14, 512)       0         \n",
            "                                                                 \n",
            " depthwise_conv2d_20 (Depthw  (None, 14, 14, 512)      5120      \n",
            " iseConv2D)                                                      \n",
            "                                                                 \n",
            " batch_normalization_268 (Ba  (None, 14, 14, 512)      2048      \n",
            " tchNormalization)                                               \n",
            "                                                                 \n",
            " re_lu_260 (ReLU)            (None, 14, 14, 512)       0         \n",
            "                                                                 \n",
            " conv2d_249 (Conv2D)         (None, 14, 14, 512)       262656    \n",
            "                                                                 \n",
            " batch_normalization_269 (Ba  (None, 14, 14, 512)      2048      \n",
            " tchNormalization)                                               \n",
            "                                                                 \n",
            " re_lu_261 (ReLU)            (None, 14, 14, 512)       0         \n",
            "                                                                 \n",
            " depthwise_conv2d_21 (Depthw  (None, 14, 14, 512)      5120      \n",
            " iseConv2D)                                                      \n",
            "                                                                 \n",
            " batch_normalization_270 (Ba  (None, 14, 14, 512)      2048      \n",
            " tchNormalization)                                               \n",
            "                                                                 \n",
            " re_lu_262 (ReLU)            (None, 14, 14, 512)       0         \n",
            "                                                                 \n",
            " conv2d_250 (Conv2D)         (None, 14, 14, 512)       262656    \n",
            "                                                                 \n",
            " batch_normalization_271 (Ba  (None, 14, 14, 512)      2048      \n",
            " tchNormalization)                                               \n",
            "                                                                 \n",
            " re_lu_263 (ReLU)            (None, 14, 14, 512)       0         \n",
            "                                                                 \n",
            " depthwise_conv2d_22 (Depthw  (None, 14, 14, 512)      5120      \n",
            " iseConv2D)                                                      \n",
            "                                                                 \n",
            " batch_normalization_272 (Ba  (None, 14, 14, 512)      2048      \n",
            " tchNormalization)                                               \n",
            "                                                                 \n",
            " re_lu_264 (ReLU)            (None, 14, 14, 512)       0         \n",
            "                                                                 \n",
            " conv2d_251 (Conv2D)         (None, 14, 14, 512)       262656    \n",
            "                                                                 \n",
            " batch_normalization_273 (Ba  (None, 14, 14, 512)      2048      \n",
            " tchNormalization)                                               \n",
            "                                                                 \n",
            " re_lu_265 (ReLU)            (None, 14, 14, 512)       0         \n",
            "                                                                 \n",
            " depthwise_conv2d_23 (Depthw  (None, 14, 14, 512)      5120      \n",
            " iseConv2D)                                                      \n",
            "                                                                 \n",
            " batch_normalization_274 (Ba  (None, 14, 14, 512)      2048      \n",
            " tchNormalization)                                               \n",
            "                                                                 \n",
            " re_lu_266 (ReLU)            (None, 14, 14, 512)       0         \n",
            "                                                                 \n",
            " conv2d_252 (Conv2D)         (None, 14, 14, 512)       262656    \n",
            "                                                                 \n",
            " batch_normalization_275 (Ba  (None, 14, 14, 512)      2048      \n",
            " tchNormalization)                                               \n",
            "                                                                 \n",
            " re_lu_267 (ReLU)            (None, 14, 14, 512)       0         \n",
            "                                                                 \n",
            " depthwise_conv2d_24 (Depthw  (None, 7, 7, 512)        5120      \n",
            " iseConv2D)                                                      \n",
            "                                                                 \n",
            " batch_normalization_276 (Ba  (None, 7, 7, 512)        2048      \n",
            " tchNormalization)                                               \n",
            "                                                                 \n",
            " re_lu_268 (ReLU)            (None, 7, 7, 512)         0         \n",
            "                                                                 \n",
            " conv2d_253 (Conv2D)         (None, 7, 7, 1024)        525312    \n",
            "                                                                 \n",
            " batch_normalization_277 (Ba  (None, 7, 7, 1024)       4096      \n",
            " tchNormalization)                                               \n",
            "                                                                 \n",
            " re_lu_269 (ReLU)            (None, 7, 7, 1024)        0         \n",
            "                                                                 \n",
            " depthwise_conv2d_25 (Depthw  (None, 7, 7, 1024)       10240     \n",
            " iseConv2D)                                                      \n",
            "                                                                 \n",
            " batch_normalization_278 (Ba  (None, 7, 7, 1024)       4096      \n",
            " tchNormalization)                                               \n",
            "                                                                 \n",
            " re_lu_270 (ReLU)            (None, 7, 7, 1024)        0         \n",
            "                                                                 \n",
            " conv2d_254 (Conv2D)         (None, 7, 7, 1024)        1049600   \n",
            "                                                                 \n",
            " batch_normalization_279 (Ba  (None, 7, 7, 1024)       4096      \n",
            " tchNormalization)                                               \n",
            "                                                                 \n",
            " re_lu_271 (ReLU)            (None, 7, 7, 1024)        0         \n",
            "                                                                 \n",
            " global_average_pooling2d_4   (None, 1024)             0         \n",
            " (GlobalAveragePooling2D)                                        \n",
            "                                                                 \n",
            " dense_4 (Dense)             (None, 2)                 2050      \n",
            "                                                                 \n",
            "=================================================================\n",
            "Total params: 3,241,858\n",
            "Trainable params: 3,219,970\n",
            "Non-trainable params: 21,888\n",
            "_________________________________________________________________\n"
          ]
        }
      ],
      "source": [
        "mobilenet_model.summary()"
      ]
    },
    {
      "cell_type": "code",
      "execution_count": null,
      "metadata": {
        "id": "HJMjnTxJnV-H"
      },
      "outputs": [],
      "source": [
        "mobilenet_model.compile(optimizer='adam', loss='categorical_crossentropy', metrics=['accuracy'])"
      ]
    },
    {
      "cell_type": "code",
      "execution_count": null,
      "metadata": {
        "id": "WDokJLGunY09"
      },
      "outputs": [],
      "source": [
        "tl_checkpoint_4 = ModelCheckpoint(filepath='tl_model_v4.weights.best.hdf5',\n",
        "                                  save_best_only=True,\n",
        "                                  monitor='val_accuracy', mode='max',\n",
        "                                  verbose=1)\n",
        "\n",
        "# EarlyStopping\n",
        "early_stop_4 = EarlyStopping(monitor='val_loss',\n",
        "                           patience=10,\n",
        "                           restore_best_weights=True,\n",
        "                           mode='min')"
      ]
    },
    {
      "cell_type": "code",
      "execution_count": null,
      "metadata": {
        "colab": {
          "base_uri": "https://localhost:8080/",
          "height": 707
        },
        "id": "8CqB7CRMnmlV",
        "outputId": "adb18e7f-9678-43d9-b3c0-850603c23a0f"
      },
      "outputs": [
        {
          "output_type": "display_data",
          "data": {
            "text/plain": [
              "<Figure size 864x576 with 2 Axes>"
            ],
            "image/png": "[encoded data removed]"
          },
          "metadata": {
            "needs_background": "light"
          }
        },
        {
          "output_type": "stream",
          "name": "stdout",
          "text": [
            "accuracy\n",
            "\ttraining         \t (min:    0.708, max:    0.857, cur:    0.857)\n",
            "\tvalidation       \t (min:    0.496, max:    0.705, cur:    0.705)\n",
            "Loss\n",
            "\ttraining         \t (min:    0.311, max:    0.590, cur:    0.311)\n",
            "\tvalidation       \t (min:    0.647, max:    1.024, cur:    0.647)\n",
            "\b\b\b\b\b\b\b\b\b\b\b\b\b\b\b\b\b\b\b\b\b\b\b\b\b\b\b\b\b\b\b\b\b\b\b\b\b\b\b\b\b\b\b\b\b\b\b\b\b\b\b\b\b\b\b\b\b\b\b\b\b\b\b\b\b\b\b\b\b\b\b\b\b\b\b\b\b\b\b\b\b\b\r63/63 [==============================] - 95s 2s/step - loss: 0.3105 - accuracy: 0.8568 - val_loss: 0.6468 - val_accuracy: 0.7054\n"
          ]
        }
      ],
      "source": [
        "mobilenet_model_history  = mobilenet_model.fit(train_generator,\n",
        "                            batch_size=64,\n",
        "                            epochs=10,\n",
        "                            validation_data=test_generator,\n",
        "                            callbacks=[tl_checkpoint_4, early_stop_4,PlotLossesCallback()],\n",
        "                            verbose=1)"
      ]
    },
    {
      "cell_type": "code",
      "execution_count": null,
      "metadata": {
        "id": "ijZ5sIs6npgk"
      },
      "outputs": [],
      "source": [
        "mobilenet_model.load_weights('tl_model_v4.weights.best.hdf5')"
      ]
    },
    {
      "cell_type": "code",
      "execution_count": null,
      "metadata": {
        "id": "e3vtLetnnskF",
        "colab": {
          "base_uri": "https://localhost:8080/"
        },
        "outputId": "d97ec23f-b909-4fc6-b0c0-a05cd7c83b2d"
      },
      "outputs": [
        {
          "output_type": "stream",
          "name": "stdout",
          "text": [
            "3/3 [==============================] - 2s 485ms/step - loss: 0.6488 - accuracy: 0.7054\n"
          ]
        }
      ],
      "source": [
        "metrics = mobilenet_model.evaluate(test_generator)"
      ]
    },
    {
      "cell_type": "code",
      "execution_count": null,
      "metadata": {
        "id": "9ZnxcuYenum_",
        "colab": {
          "base_uri": "https://localhost:8080/",
          "height": 279
        },
        "outputId": "27787551-28b7-4b6d-f2b3-fb445bd7005e"
      },
      "outputs": [
        {
          "output_type": "display_data",
          "data": {
            "text/plain": [
              "<Figure size 432x288 with 1 Axes>"
            ],
            "image/png": "[encoded data removed]"
          },
          "metadata": {
            "needs_background": "light"
          }
        }
      ],
      "source": [
        "history = mobilenet_model_history.history\n",
        "\n",
        "# Plot the accuracy and loss of the model over time\n",
        "plt.plot(history['accuracy'])\n",
        "plt.plot(history['loss'])\n",
        "plt.legend(['Accuracy', 'Loss'])\n",
        "plt.xlabel('Epoch')\n",
        "plt.ylabel('Metric')\n",
        "#plt.ylim([0.5, 1])\n",
        "plt.show()"
      ]
    },
    {
      "cell_type": "code",
      "execution_count": null,
      "metadata": {
        "id": "oawLAOc_JasB",
        "colab": {
          "base_uri": "https://localhost:8080/"
        },
        "outputId": "1ddec787-3368-4eb7-8f96-ead942e8ab2f"
      },
      "outputs": [
        {
          "output_type": "stream",
          "name": "stdout",
          "text": [
            "3/3 [==============================] - 2s 516ms/step\n"
          ]
        }
      ],
      "source": [
        "true_classes = test_generator.classes\n",
        "class_indices = train_generator.class_indices\n",
        "class_indices = dict((v,k) for k,v in class_indices.items())\n",
        "\n",
        "model_preds = mobilenet_model.predict(test_generator)\n",
        "model_pred_classes = np.argmax(model_preds, axis=1)"
      ]
    },
    {
      "cell_type": "code",
      "execution_count": null,
      "metadata": {
        "id": "X_-q5zAZJaoh",
        "colab": {
          "base_uri": "https://localhost:8080/"
        },
        "outputId": "d22d9dc7-1895-41ff-bda3-0d062ae9f677"
      },
      "outputs": [
        {
          "output_type": "stream",
          "name": "stdout",
          "text": [
            "MobileNet Model Accuracy : 70.54%\n"
          ]
        }
      ],
      "source": [
        "from sklearn.metrics import accuracy_score\n",
        "\n",
        "model_acc = accuracy_score(true_classes,model_pred_classes)\n",
        "print(\"MobileNet Model Accuracy : {:.2f}%\".format(model_acc * 100))"
      ]
    },
    {
      "cell_type": "code",
      "execution_count": null,
      "metadata": {
        "id": "ZppQ37p2JalB"
      },
      "outputs": [],
      "source": [
        "from sklearn.metrics import confusion_matrix\n",
        "cm=confusion_matrix(true_classes,model_pred_classes)"
      ]
    },
    {
      "cell_type": "code",
      "execution_count": null,
      "metadata": {
        "id": "nf6HKhhQJahy",
        "colab": {
          "base_uri": "https://localhost:8080/",
          "height": 296
        },
        "outputId": "03381b39-8b4f-4e58-83fa-6ec1aec2fb6d"
      },
      "outputs": [
        {
          "output_type": "execute_result",
          "data": {
            "text/plain": [
              "Text(33.0, 0.5, 'Actual Value')"
            ]
          },
          "metadata": {},
          "execution_count": 96
        },
        {
          "output_type": "display_data",
          "data": {
            "text/plain": [
              "<Figure size 432x288 with 1 Axes>"
            ],
            "image/png": "[encoded data removed]"
          },
          "metadata": {
            "needs_background": "light"
          }
        }
      ],
      "source": [
        "from sklearn import metrics as mt \n",
        "sns.heatmap(cm, annot = True, cmap=\"Blues\",cbar=False);\n",
        "plt.xlabel('Predicted Value')\n",
        "plt.ylabel('Actual Value')"
      ]
    },
    {
      "cell_type": "code",
      "execution_count": null,
      "metadata": {
        "id": "xvzaTtvvJq7p",
        "colab": {
          "base_uri": "https://localhost:8080/"
        },
        "outputId": "cf5e322d-4eae-43c2-a4f6-356e9664a5b2"
      },
      "outputs": [
        {
          "output_type": "stream",
          "name": "stdout",
          "text": [
            "              precision    recall  f1-score   support\n",
            "\n",
            "           0       0.63      1.00      0.77        64\n",
            "           1       1.00      0.42      0.59        65\n",
            "\n",
            "    accuracy                           0.71       129\n",
            "   macro avg       0.81      0.71      0.68       129\n",
            "weighted avg       0.82      0.71      0.68       129\n",
            "\n"
          ]
        }
      ],
      "source": [
        "print(mt.classification_report(true_classes, model_pred_classes))"
      ]
    },
    {
      "cell_type": "markdown",
      "metadata": {
        "id": "8HvP-stUn_jV"
      },
      "source": [
        "# **Dense** **Net**"
      ]
    },
    {
      "cell_type": "code",
      "execution_count": null,
      "metadata": {
        "id": "GFlSCNxon-MK"
      },
      "outputs": [],
      "source": [
        "def densenet(img_shape, n_classes, f=32):\n",
        "  repetitions = 6, 12, 24, 16\n",
        "  \n",
        "  def bn_rl_conv(x, f, k=1, s=1, p='same'):\n",
        "    x = BatchNormalization()(x)\n",
        "    x = ReLU()(x)\n",
        "    x = Conv2D(f, k, strides=s, padding=p)(x)\n",
        "    return x\n",
        "  \n",
        "  \n",
        "  def dense_block(tensor, r):\n",
        "    for _ in range(r):\n",
        "      x = bn_rl_conv(tensor, 4*f)\n",
        "      x = bn_rl_conv(x, f, 3)\n",
        "      tensor = Concatenate()([tensor, x])\n",
        "    return tensor\n",
        "  \n",
        "  \n",
        "  def transition_block(x):\n",
        "    x = bn_rl_conv(x, K.int_shape(x)[-1] // 2)\n",
        "    x = AvgPool2D(2, strides=2, padding='same')(x)\n",
        "    return x\n",
        "  \n",
        "  \n",
        "  input = Input(img_shape)\n",
        "  \n",
        "  x = Conv2D(64, 7, strides=2, padding='same')(input)\n",
        "  x = MaxPool2D(3, strides=2, padding='same')(x)\n",
        "  \n",
        "  for r in repetitions:\n",
        "    d = dense_block(x, r)\n",
        "    x = transition_block(d)\n",
        "  \n",
        "  x = GlobalAvgPool2D()(d)\n",
        "  \n",
        "  output = Dense(n_classes, activation='softmax')(x)\n",
        "  \n",
        "  model = Model(input, output)\n",
        "  return model"
      ]
    },
    {
      "cell_type": "code",
      "execution_count": null,
      "metadata": {
        "id": "90SVfaZ0oIDw"
      },
      "outputs": [],
      "source": [
        "img_shape = [224,224,3]\n",
        "densenet_model = densenet(img_shape,2)"
      ]
    },
    {
      "cell_type": "code",
      "execution_count": null,
      "metadata": {
        "id": "1VDIO1aOoQ7S"
      },
      "outputs": [],
      "source": [
        "densenet_model.compile(optimizer='adam', loss='categorical_crossentropy', metrics=['accuracy'])"
      ]
    },
    {
      "cell_type": "code",
      "execution_count": null,
      "metadata": {
        "id": "bpz3da9yoTC9"
      },
      "outputs": [],
      "source": [
        "tl_checkpoint_5 = ModelCheckpoint(filepath='tl_model_v5.weights.best.hdf5',\n",
        "                                  save_best_only=True,\n",
        "                                  monitor='val_accuracy', mode='max',\n",
        "                                  verbose=1)\n",
        "\n",
        "# EarlyStopping\n",
        "early_stop_5 = EarlyStopping(monitor='val_loss',\n",
        "                           patience=5,\n",
        "                           restore_best_weights=True,\n",
        "                           mode='min')"
      ]
    },
    {
      "cell_type": "code",
      "execution_count": null,
      "metadata": {
        "colab": {
          "base_uri": "https://localhost:8080/",
          "height": 707
        },
        "id": "ZKvKoRWnoY5e",
        "outputId": "6ba38c51-300c-43c4-bc3f-0768747e4609"
      },
      "outputs": [
        {
          "output_type": "display_data",
          "data": {
            "text/plain": [
              "<Figure size 864x576 with 2 Axes>"
            ],
            "image/png": "[encoded data removed]"
          },
          "metadata": {
            "needs_background": "light"
          }
        },
        {
          "output_type": "stream",
          "name": "stdout",
          "text": [
            "accuracy\n",
            "\ttraining         \t (min:    0.856, max:    0.927, cur:    0.927)\n",
            "\tvalidation       \t (min:    0.496, max:    0.992, cur:    0.860)\n",
            "Loss\n",
            "\ttraining         \t (min:    0.160, max:    0.302, cur:    0.160)\n",
            "\tvalidation       \t (min:    0.111, max: 16105.250, cur:    3.190)\n",
            "\b\b\b\b\b\b\b\b\b\b\b\b\b\b\b\b\b\b\b\b\b\b\b\b\b\b\b\b\b\b\b\b\b\b\b\b\b\b\b\b\b\b\b\b\b\b\b\b\b\b\b\b\b\b\b\b\b\b\b\b\b\b\b\b\b\b\b\b\b\b\b\b\b\b\b\b\b\b\b\b\b\b\r63/63 [==============================] - 102s 2s/step - loss: 0.1598 - accuracy: 0.9265 - val_loss: 3.1903 - val_accuracy: 0.8605\n"
          ]
        }
      ],
      "source": [
        "densenet_model_history  = densenet_model.fit(train_generator,\n",
        "                            batch_size=64,\n",
        "                            epochs=10,\n",
        "                            validation_data=test_generator,\n",
        "                            callbacks=[tl_checkpoint_5, early_stop_5,PlotLossesCallback()],\n",
        "                            verbose=1)"
      ]
    },
    {
      "cell_type": "code",
      "execution_count": null,
      "metadata": {
        "id": "DzDC674uoY0N"
      },
      "outputs": [],
      "source": [
        "densenet_model.load_weights('tl_model_v5.weights.best.hdf5')"
      ]
    },
    {
      "cell_type": "code",
      "execution_count": null,
      "metadata": {
        "id": "X6OtPKztoYv-",
        "colab": {
          "base_uri": "https://localhost:8080/"
        },
        "outputId": "83d567f4-1116-4051-a2fa-a4bc41ed4282"
      },
      "outputs": [
        {
          "output_type": "stream",
          "name": "stdout",
          "text": [
            "3/3 [==============================] - 2s 472ms/step - loss: 0.1113 - accuracy: 0.9922\n"
          ]
        }
      ],
      "source": [
        "metrics = densenet_model.evaluate(test_generator)"
      ]
    },
    {
      "cell_type": "code",
      "execution_count": null,
      "metadata": {
        "id": "re7OWeK8oYq_",
        "colab": {
          "base_uri": "https://localhost:8080/",
          "height": 279
        },
        "outputId": "d584e0a4-16c4-499e-c2d7-90d3a87b9698"
      },
      "outputs": [
        {
          "output_type": "display_data",
          "data": {
            "text/plain": [
              "<Figure size 432x288 with 1 Axes>"
            ],
            "image/png": "[encoded data removed]"
          },
          "metadata": {
            "needs_background": "light"
          }
        }
      ],
      "source": [
        "history = densenet_model_history.history\n",
        "\n",
        "# Plot the accuracy and loss of the model over time\n",
        "plt.plot(history['accuracy'])\n",
        "plt.plot(history['loss'])\n",
        "plt.legend(['Accuracy', 'Loss'])\n",
        "plt.xlabel('Epoch')\n",
        "plt.ylabel('Metric')\n",
        "#plt.ylim([0.5, 1])\n",
        "plt.show()"
      ]
    },
    {
      "cell_type": "code",
      "execution_count": null,
      "metadata": {
        "id": "-RJa3cngKxqG",
        "colab": {
          "base_uri": "https://localhost:8080/"
        },
        "outputId": "987f0328-6868-4b07-bf82-5a0113cd9743"
      },
      "outputs": [
        {
          "output_type": "stream",
          "name": "stdout",
          "text": [
            "3/3 [==============================] - 4s 591ms/step\n"
          ]
        }
      ],
      "source": [
        "true_classes = test_generator.classes\n",
        "class_indices = train_generator.class_indices\n",
        "class_indices = dict((v,k) for k,v in class_indices.items())\n",
        "\n",
        "model_preds = densenet_model.predict(test_generator)\n",
        "model_pred_classes = np.argmax(model_preds, axis=1)"
      ]
    },
    {
      "cell_type": "code",
      "execution_count": null,
      "metadata": {
        "id": "-bKVV9hjKxlV",
        "colab": {
          "base_uri": "https://localhost:8080/"
        },
        "outputId": "2d45dc55-7d58-4955-e7bd-4f7f6affbed2"
      },
      "outputs": [
        {
          "output_type": "stream",
          "name": "stdout",
          "text": [
            "DenseNet Model Accuracy : 99.22%\n"
          ]
        }
      ],
      "source": [
        "from sklearn.metrics import accuracy_score\n",
        "\n",
        "model_acc = accuracy_score(true_classes,model_pred_classes)\n",
        "print(\"DenseNet Model Accuracy : {:.2f}%\".format(model_acc * 100))"
      ]
    },
    {
      "cell_type": "code",
      "execution_count": null,
      "metadata": {
        "id": "fU9ezjZdKxZO"
      },
      "outputs": [],
      "source": [
        "from sklearn.metrics import confusion_matrix\n",
        "cm=confusion_matrix(true_classes,model_pred_classes)"
      ]
    },
    {
      "cell_type": "code",
      "execution_count": null,
      "metadata": {
        "id": "bHWXpyv8KxS5",
        "colab": {
          "base_uri": "https://localhost:8080/",
          "height": 296
        },
        "outputId": "0f523aa4-102a-40b0-a1c9-50870eb186cc"
      },
      "outputs": [
        {
          "output_type": "execute_result",
          "data": {
            "text/plain": [
              "Text(33.0, 0.5, 'Actual Value')"
            ]
          },
          "metadata": {},
          "execution_count": 111
        },
        {
          "output_type": "display_data",
          "data": {
            "text/plain": [
              "<Figure size 432x288 with 1 Axes>"
            ],
            "image/png": "[encoded data removed]"
          },
          "metadata": {
            "needs_background": "light"
          }
        }
      ],
      "source": [
        "from sklearn import metrics as mt \n",
        "sns.heatmap(cm, annot = True, cmap=\"Blues\",cbar=False);\n",
        "plt.xlabel('Predicted Value')\n",
        "plt.ylabel('Actual Value')"
      ]
    },
    {
      "cell_type": "code",
      "execution_count": null,
      "metadata": {
        "id": "v_mg6Cw6KxOH",
        "colab": {
          "base_uri": "https://localhost:8080/"
        },
        "outputId": "978d6cb6-eece-440b-9bbd-0b5ee2a70c2e"
      },
      "outputs": [
        {
          "output_type": "stream",
          "name": "stdout",
          "text": [
            "              precision    recall  f1-score   support\n",
            "\n",
            "           0       0.98      1.00      0.99        64\n",
            "           1       1.00      0.98      0.99        65\n",
            "\n",
            "    accuracy                           0.99       129\n",
            "   macro avg       0.99      0.99      0.99       129\n",
            "weighted avg       0.99      0.99      0.99       129\n",
            "\n"
          ]
        }
      ],
      "source": [
        "print(mt.classification_report(true_classes, model_pred_classes))"
      ]
    }
  ],
  "metadata": {
    "accelerator": "GPU",
    "colab": {
      "provenance": []
    },
    "gpuClass": "standard",
    "kernelspec": {
      "display_name": "Python 3",
      "name": "python3"
    },
    "language_info": {
      "name": "python"
    }
  },
  "nbformat": 4,
  "nbformat_minor": 0
}